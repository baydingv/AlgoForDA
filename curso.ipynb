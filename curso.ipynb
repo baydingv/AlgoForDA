{
 "cells": [
  {
   "cell_type": "markdown",
   "metadata": {},
   "source": [
    "**Подключение библиотек и скриптов**"
   ]
  },
  {
   "cell_type": "code",
   "execution_count": 144,
   "metadata": {},
   "outputs": [],
   "source": [
    "import numpy as np\n",
    "import pandas as pd\n",
    "import matplotlib.pyplot as plt\n",
    "from sklearn.model_selection import train_test_split\n",
    "from numpy.linalg import inv"
   ]
  },
  {
   "cell_type": "code",
   "execution_count": 145,
   "metadata": {},
   "outputs": [],
   "source": [
    "def r2_quality(y_prd, y_tru):\n",
    "    y_mn = np.average(y_tru,axis=0)\n",
    "    return 1.0 - np.sum((y_prd - y_tru)**2)/np.sum((y_tru - y_mn)**2)"
   ]
  },
  {
   "cell_type": "markdown",
   "metadata": {},
   "source": [
    "**Пути к директориям и файлам**"
   ]
  },
  {
   "cell_type": "code",
   "execution_count": 146,
   "metadata": {},
   "outputs": [],
   "source": [
    "# input\n",
    "TRAIN_DATASET_PATH = 'train.csv'\n",
    "TEST_DATASET_PATH  = 'test.csv'\n",
    "\n",
    "# output\n",
    "PREP_DATASET_PATH  = 'GB_predictions.csv'"
   ]
  },
  {
   "cell_type": "markdown",
   "metadata": {},
   "source": [
    "**Загрузка  данных<a class=\"anchor\" id=\"load_data\"></a>**"
   ]
  },
  {
   "cell_type": "code",
   "execution_count": 147,
   "metadata": {
    "scrolled": true
   },
   "outputs": [
    {
     "data": {
      "text/html": [
       "<div>\n",
       "<style scoped>\n",
       "    .dataframe tbody tr th:only-of-type {\n",
       "        vertical-align: middle;\n",
       "    }\n",
       "\n",
       "    .dataframe tbody tr th {\n",
       "        vertical-align: top;\n",
       "    }\n",
       "\n",
       "    .dataframe thead th {\n",
       "        text-align: right;\n",
       "    }\n",
       "</style>\n",
       "<table border=\"1\" class=\"dataframe\">\n",
       "  <thead>\n",
       "    <tr style=\"text-align: right;\">\n",
       "      <th></th>\n",
       "      <th>Id</th>\n",
       "      <th>age</th>\n",
       "      <th>years_of_experience</th>\n",
       "      <th>lesson_price</th>\n",
       "      <th>qualification</th>\n",
       "      <th>physics</th>\n",
       "      <th>chemistry</th>\n",
       "      <th>biology</th>\n",
       "      <th>english</th>\n",
       "      <th>geography</th>\n",
       "      <th>history</th>\n",
       "      <th>mean_exam_points</th>\n",
       "    </tr>\n",
       "  </thead>\n",
       "  <tbody>\n",
       "    <tr>\n",
       "      <th>0</th>\n",
       "      <td>0</td>\n",
       "      <td>40.0</td>\n",
       "      <td>0.0</td>\n",
       "      <td>1400.0</td>\n",
       "      <td>1.0</td>\n",
       "      <td>1.0</td>\n",
       "      <td>0.0</td>\n",
       "      <td>0.0</td>\n",
       "      <td>0.0</td>\n",
       "      <td>1.0</td>\n",
       "      <td>0.0</td>\n",
       "      <td>63.0</td>\n",
       "    </tr>\n",
       "    <tr>\n",
       "      <th>1</th>\n",
       "      <td>1</td>\n",
       "      <td>48.0</td>\n",
       "      <td>4.0</td>\n",
       "      <td>2850.0</td>\n",
       "      <td>3.0</td>\n",
       "      <td>1.0</td>\n",
       "      <td>0.0</td>\n",
       "      <td>0.0</td>\n",
       "      <td>0.0</td>\n",
       "      <td>0.0</td>\n",
       "      <td>0.0</td>\n",
       "      <td>86.0</td>\n",
       "    </tr>\n",
       "    <tr>\n",
       "      <th>2</th>\n",
       "      <td>2</td>\n",
       "      <td>39.0</td>\n",
       "      <td>0.0</td>\n",
       "      <td>1200.0</td>\n",
       "      <td>1.0</td>\n",
       "      <td>0.0</td>\n",
       "      <td>0.0</td>\n",
       "      <td>0.0</td>\n",
       "      <td>0.0</td>\n",
       "      <td>0.0</td>\n",
       "      <td>0.0</td>\n",
       "      <td>53.0</td>\n",
       "    </tr>\n",
       "    <tr>\n",
       "      <th>3</th>\n",
       "      <td>3</td>\n",
       "      <td>46.0</td>\n",
       "      <td>5.0</td>\n",
       "      <td>1400.0</td>\n",
       "      <td>1.0</td>\n",
       "      <td>0.0</td>\n",
       "      <td>0.0</td>\n",
       "      <td>0.0</td>\n",
       "      <td>0.0</td>\n",
       "      <td>0.0</td>\n",
       "      <td>0.0</td>\n",
       "      <td>56.0</td>\n",
       "    </tr>\n",
       "    <tr>\n",
       "      <th>4</th>\n",
       "      <td>4</td>\n",
       "      <td>43.0</td>\n",
       "      <td>1.0</td>\n",
       "      <td>1500.0</td>\n",
       "      <td>1.0</td>\n",
       "      <td>0.0</td>\n",
       "      <td>0.0</td>\n",
       "      <td>0.0</td>\n",
       "      <td>0.0</td>\n",
       "      <td>0.0</td>\n",
       "      <td>0.0</td>\n",
       "      <td>59.0</td>\n",
       "    </tr>\n",
       "  </tbody>\n",
       "</table>\n",
       "</div>"
      ],
      "text/plain": [
       "   Id   age  years_of_experience  lesson_price  qualification  physics  \\\n",
       "0   0  40.0                  0.0        1400.0            1.0      1.0   \n",
       "1   1  48.0                  4.0        2850.0            3.0      1.0   \n",
       "2   2  39.0                  0.0        1200.0            1.0      0.0   \n",
       "3   3  46.0                  5.0        1400.0            1.0      0.0   \n",
       "4   4  43.0                  1.0        1500.0            1.0      0.0   \n",
       "\n",
       "   chemistry  biology  english  geography  history  mean_exam_points  \n",
       "0        0.0      0.0      0.0        1.0      0.0              63.0  \n",
       "1        0.0      0.0      0.0        0.0      0.0              86.0  \n",
       "2        0.0      0.0      0.0        0.0      0.0              53.0  \n",
       "3        0.0      0.0      0.0        0.0      0.0              56.0  \n",
       "4        0.0      0.0      0.0        0.0      0.0              59.0  "
      ]
     },
     "execution_count": 147,
     "metadata": {},
     "output_type": "execute_result"
    }
   ],
   "source": [
    "df = pd.read_csv(TRAIN_DATASET_PATH)\n",
    "df.head()"
   ]
  },
  {
   "cell_type": "markdown",
   "metadata": {},
   "source": [
    "**Подготовка данных**"
   ]
  },
  {
   "cell_type": "code",
   "execution_count": 148,
   "metadata": {},
   "outputs": [
    {
     "name": "stdout",
     "output_type": "stream",
     "text": [
      "(6250, 12) (3750, 12)\n"
     ]
    }
   ],
   "source": [
    "# разделим набор по значению столбца \"физика\"\n",
    "df0 = df[df['physics']==0]\n",
    "df1 = df[df['physics']==1]\n",
    "print(df0.shape, df1.shape)"
   ]
  },
  {
   "cell_type": "code",
   "execution_count": 149,
   "metadata": {},
   "outputs": [],
   "source": [
    "# отделим таргеты\n",
    "y0 = df0['mean_exam_points']\n",
    "y1 = df1['mean_exam_points']"
   ]
  },
  {
   "cell_type": "code",
   "execution_count": 150,
   "metadata": {},
   "outputs": [],
   "source": [
    "# в признаках оставим только релевантные, но из двух коррелирующих признаков qualification и \n",
    "# lesson_price выберем вторую, т.к. она более подробная\n",
    "df_X0 = pd.DataFrame(df0, columns=['years_of_experience','lesson_price'])\n",
    "df_X1 = pd.DataFrame(df1, columns=['years_of_experience','lesson_price'])\n",
    "\n",
    "# и нормализуем эти признаки\n",
    "X0 = np.array((df_X0-df_X0.min(axis=0))/(df_X0.max(axis=0)-df_X0.min(axis=0))) \n",
    "X1 = np.array((df_X1-df_X1.min(axis=0))/(df_X1.max(axis=0)-df_X1.min(axis=0))) "
   ]
  },
  {
   "cell_type": "markdown",
   "metadata": {},
   "source": [
    "**Поставим задачу линейной регрессии в виде: A*c=f, где f аппроксимирует наш таргет,\n",
    "а результатом станет нахождение вектора коэффициентов c (для двух наборов это будут разные \n",
    "коэффициенты: c0 и c1) \n",
    "Во втором варианте применим полиномиальную регрессию (до 2 степени)**"
   ]
  },
  {
   "cell_type": "code",
   "execution_count": 182,
   "metadata": {},
   "outputs": [],
   "source": [
    "A0_11,A0_12,A0_13,A0_14,A0_15,A0_16 = len(y0),sum(X0[:,0]),sum(X0[:,1]), sum(X0[:,0]**2), sum(X0[:,1]**2), sum(X0[:,0]*X0[:,1])\n",
    "A0_21,A0_22,A0_23,A0_24,A0_25,A0_26 =   A0_12, A0_14, A0_16, sum(X0[:,0]**3), sum(X0[:,0]*X0[:,1]**2),  sum(X0[:,1]*X0[:,0]**2)\n",
    "A0_31,A0_32,A0_33,A0_34,A0_35,A0_36 =   A0_13, A0_23, A0_15, A0_26,  sum(X0[:,1]**3), A0_25\n",
    "A0_41,A0_42,A0_43,A0_44,A0_45,A0_46 =   A0_14, A0_24, A0_34, sum(X0[:,0]**4),  sum(X0[:,0]**2*X0[:,1]**2), sum(X0[:,0]**3*X0[:,1])\n",
    "A0_51,A0_52,A0_53,A0_54,A0_55,A0_56 =   A0_15, A0_25, A0_35, A0_45,  sum(X0[:,1]**4), sum(X0[:,1]**3*X0[:,0])\n",
    "A0_61,A0_62,A0_63,A0_64,A0_65,A0_66 =   A0_16, A0_26, A0_36, A0_46, A0_56, A0_45\n",
    "\n",
    "F0_1,F0_2,F0_3,F0_4,F0_5,F0_6       = sum(y0),sum(y0*X0[:,0]),sum(y0*X0[:,1]),sum(y0*X0[:,0]**2),sum(y0*X0[:,1]**2),sum(y0*X0[:,0]*X0[:,1])"
   ]
  },
  {
   "cell_type": "code",
   "execution_count": 185,
   "metadata": {},
   "outputs": [],
   "source": [
    "A0 = np.array([[A0_11,A0_12,A0_13,A0_14,A0_15,A0_16],[A0_21,A0_22,A0_23,A0_24,A0_25,A0_26],\n",
    "               [A0_31,A0_32,A0_33,A0_34,A0_35,A0_36],[A0_41,A0_42,A0_43,A0_44,A0_45,A0_46],\n",
    "               [A0_51,A0_52,A0_53,A0_54,A0_55,A0_56],[A0_61,A0_62,A0_63,A0_64,A0_65,A0_66]])\n",
    "F0 = np.array([F0_1,F0_2,F0_3,F0_4,F0_5,F0_6])"
   ]
  },
  {
   "cell_type": "code",
   "execution_count": 186,
   "metadata": {},
   "outputs": [
    {
     "data": {
      "text/plain": [
       "array([[6250.        , 1543.125     , 2502.86666667,  683.859375  ,\n",
       "        1125.63715556,  667.27333333],\n",
       "       [1543.125     ,  683.859375  ,  667.27333333,  360.14648438,\n",
       "         333.26608889,  307.00166667],\n",
       "       [2502.86666667,  667.27333333, 1125.63715556,  307.00166667,\n",
       "         564.74217007,  333.26608889],\n",
       "       [ 683.859375  ,  360.14648438,  307.00166667,  213.56323242,\n",
       "         160.51941667,  165.51989583],\n",
       "       [1125.63715556,  333.26608889,  564.74217007,  160.51941667,\n",
       "         311.75939126,  186.93265659],\n",
       "       [ 667.27333333,  307.00166667,  333.26608889,  165.51989583,\n",
       "         186.93265659,  160.51941667]])"
      ]
     },
     "execution_count": 186,
     "metadata": {},
     "output_type": "execute_result"
    }
   ],
   "source": [
    "A0"
   ]
  },
  {
   "cell_type": "code",
   "execution_count": 187,
   "metadata": {},
   "outputs": [
    {
     "data": {
      "text/plain": [
       "array([389828.        , 100015.875     , 164786.68      ,  45224.296875  ,\n",
       "        78354.48408889,  46173.92833333])"
      ]
     },
     "execution_count": 187,
     "metadata": {},
     "output_type": "execute_result"
    }
   ],
   "source": [
    "F0"
   ]
  },
  {
   "cell_type": "code",
   "execution_count": 188,
   "metadata": {},
   "outputs": [],
   "source": [
    "AI0 = inv(A0)"
   ]
  },
  {
   "cell_type": "code",
   "execution_count": 189,
   "metadata": {},
   "outputs": [],
   "source": [
    "c0 = inv(A0).dot(F0)"
   ]
  },
  {
   "cell_type": "code",
   "execution_count": 190,
   "metadata": {},
   "outputs": [
    {
     "data": {
      "text/plain": [
       "array([ 38.70300604,  15.6570406 ,  34.40386532,   6.33740604,\n",
       "        59.52325844, -50.45957988])"
      ]
     },
     "execution_count": 190,
     "metadata": {},
     "output_type": "execute_result"
    }
   ],
   "source": [
    "c0"
   ]
  },
  {
   "cell_type": "code",
   "execution_count": 191,
   "metadata": {
    "scrolled": true
   },
   "outputs": [],
   "source": [
    "y0p = c0[0] + c0[1]*X0[:,0] + c0[2]*X0[:,1] + c0[3]*X0[:,0]**2 + c0[4]*X0[:,1]**2 + c0[5]*X0[:,0]*X0[:,1]"
   ]
  },
  {
   "cell_type": "code",
   "execution_count": 192,
   "metadata": {},
   "outputs": [
    {
     "name": "stdout",
     "output_type": "stream",
     "text": [
      "0.5674707440887274\n"
     ]
    }
   ],
   "source": [
    "r2_0 = r2_quality(y0p, y0)\n",
    "print(r2_0)"
   ]
  },
  {
   "cell_type": "code",
   "execution_count": 193,
   "metadata": {},
   "outputs": [],
   "source": [
    "A1_11,A1_12,A1_13,A1_14,A1_15,A1_16 = len(y1),sum(X1[:,0]),sum(X1[:,1]), sum(X1[:,0]**2), sum(X1[:,1]**2), sum(X1[:,0]*X1[:,1])\n",
    "A1_21,A1_22,A1_23,A1_24,A1_25,A1_26 =   A1_12, A1_14, A1_16, sum(X1[:,0]**3), sum(X1[:,0]*X1[:,1]**2),  sum(X1[:,1]*X1[:,0]**2)\n",
    "A1_31,A1_32,A1_33,A1_34,A1_35,A1_36 =   A1_13, A1_23, A1_15, A1_26,  sum(X1[:,1]**3), A1_25\n",
    "A1_41,A1_42,A1_43,A1_44,A1_45,A1_46 =   A1_14, A1_24, A1_34, sum(X1[:,0]**4),  sum(X1[:,0]**2*X1[:,1]**2), sum(X1[:,0]**3*X1[:,1])\n",
    "A1_51,A1_52,A1_53,A1_54,A1_55,A1_56 =   A1_15, A1_25, A1_35, A1_45,  sum(X1[:,1]**4), sum(X1[:,1]**3*X1[:,0])\n",
    "A1_61,A1_62,A1_63,A1_64,A1_65,A1_66 =   A1_16, A1_26, A1_36, A1_46, A1_56, A1_45\n",
    "\n",
    "F1_1,F1_2,F1_3,F1_4,F1_5,F1_6       = sum(y1),sum(y1*X1[:,0]),sum(y1*X1[:,1]),sum(y1*X1[:,0]**2),sum(y1*X1[:,1]**2),sum(y1*X1[:,0]*X1[:,1])"
   ]
  },
  {
   "cell_type": "code",
   "execution_count": 194,
   "metadata": {},
   "outputs": [],
   "source": [
    "A1 = np.array([[A1_11,A1_12,A1_13,A1_14,A1_15,A1_16],[A1_21,A1_22,A1_23,A1_24,A1_25,A1_26],\n",
    "               [A1_31,A1_32,A1_33,A1_34,A1_35,A1_36],[A1_41,A1_42,A1_43,A1_44,A1_45,A1_46],\n",
    "               [A1_51,A1_52,A1_53,A1_54,A1_55,A1_56],[A1_61,A1_62,A1_63,A1_64,A1_65,A1_66]])\n",
    "F1 = np.array([F1_1,F1_2,F1_3,F1_4,F1_5,F1_6])"
   ]
  },
  {
   "cell_type": "code",
   "execution_count": 195,
   "metadata": {},
   "outputs": [
    {
     "data": {
      "text/plain": [
       "array([[3750.        ,  752.3       , 1557.02777778,  271.11      ,\n",
       "         725.20601852,  335.43333333],\n",
       "       [ 752.3       ,  271.11      ,  335.43333333,  117.395     ,\n",
       "         172.97318673,  126.16083333],\n",
       "       [1557.02777778,  335.43333333,  725.20601852,  126.16083333,\n",
       "         375.66464656,  172.97318673],\n",
       "       [ 271.11      ,  117.395     ,  126.16083333,   58.0575    ,\n",
       "          68.60635802,   56.47383333],\n",
       "       [ 725.20601852,  172.97318673,  375.66464656,   68.60635802,\n",
       "         213.50065506,  100.12411426],\n",
       "       [ 335.43333333,  126.16083333,  172.97318673,   56.47383333,\n",
       "         100.12411426,   68.60635802]])"
      ]
     },
     "execution_count": 195,
     "metadata": {},
     "output_type": "execute_result"
    }
   ],
   "source": [
    "A1"
   ]
  },
  {
   "cell_type": "code",
   "execution_count": 196,
   "metadata": {},
   "outputs": [
    {
     "data": {
      "text/plain": [
       "array([253580.        ,  52747.1       , 110506.36111111,  19421.31      ,\n",
       "        54086.43094136,  24924.88472222])"
      ]
     },
     "execution_count": 196,
     "metadata": {},
     "output_type": "execute_result"
    }
   ],
   "source": [
    "F1"
   ]
  },
  {
   "cell_type": "code",
   "execution_count": 197,
   "metadata": {},
   "outputs": [],
   "source": [
    "AI1 = inv(A1)"
   ]
  },
  {
   "cell_type": "code",
   "execution_count": 198,
   "metadata": {},
   "outputs": [],
   "source": [
    "c1 = inv(A1).dot(F1)"
   ]
  },
  {
   "cell_type": "code",
   "execution_count": 199,
   "metadata": {},
   "outputs": [
    {
     "data": {
      "text/plain": [
       "array([ 44.48439561,  24.83240678,  28.08723489,   8.56542714,\n",
       "        61.75721224, -67.85068982])"
      ]
     },
     "execution_count": 199,
     "metadata": {},
     "output_type": "execute_result"
    }
   ],
   "source": [
    "c1"
   ]
  },
  {
   "cell_type": "code",
   "execution_count": 200,
   "metadata": {
    "scrolled": true
   },
   "outputs": [],
   "source": [
    "y1p = c1[0] + c1[1]*X1[:,0] + c1[2]*X1[:,1] + c1[3]*X1[:,0]**2 + c1[4]*X1[:,1]**2 + c1[5]*X1[:,0]*X1[:,1]"
   ]
  },
  {
   "cell_type": "code",
   "execution_count": 201,
   "metadata": {},
   "outputs": [
    {
     "name": "stdout",
     "output_type": "stream",
     "text": [
      "0.548837774014928\n"
     ]
    }
   ],
   "source": [
    "r2_1 = r2_quality(y1p, y1)\n",
    "print(r2_1)"
   ]
  },
  {
   "cell_type": "code",
   "execution_count": 202,
   "metadata": {},
   "outputs": [
    {
     "name": "stdout",
     "output_type": "stream",
     "text": [
      "47.48948114174469 110.09301622957048\n",
      "53.4528620045912 111.60142669141268\n"
     ]
    }
   ],
   "source": [
    "print(y0p.min(),y0p.max())\n",
    "print(y1p.min(),y1p.max())"
   ]
  },
  {
   "cell_type": "markdown",
   "metadata": {},
   "source": [
    "**тепреь применим найденные коэффициенты к тестовому набору**"
   ]
  },
  {
   "cell_type": "code",
   "execution_count": 203,
   "metadata": {},
   "outputs": [
    {
     "data": {
      "text/html": [
       "<div>\n",
       "<style scoped>\n",
       "    .dataframe tbody tr th:only-of-type {\n",
       "        vertical-align: middle;\n",
       "    }\n",
       "\n",
       "    .dataframe tbody tr th {\n",
       "        vertical-align: top;\n",
       "    }\n",
       "\n",
       "    .dataframe thead th {\n",
       "        text-align: right;\n",
       "    }\n",
       "</style>\n",
       "<table border=\"1\" class=\"dataframe\">\n",
       "  <thead>\n",
       "    <tr style=\"text-align: right;\">\n",
       "      <th></th>\n",
       "      <th>Id</th>\n",
       "      <th>age</th>\n",
       "      <th>years_of_experience</th>\n",
       "      <th>lesson_price</th>\n",
       "      <th>qualification</th>\n",
       "      <th>physics</th>\n",
       "      <th>chemistry</th>\n",
       "      <th>biology</th>\n",
       "      <th>english</th>\n",
       "      <th>geography</th>\n",
       "      <th>history</th>\n",
       "    </tr>\n",
       "  </thead>\n",
       "  <tbody>\n",
       "    <tr>\n",
       "      <th>0</th>\n",
       "      <td>10000</td>\n",
       "      <td>46.0</td>\n",
       "      <td>3.0</td>\n",
       "      <td>1050.0</td>\n",
       "      <td>1.0</td>\n",
       "      <td>0.0</td>\n",
       "      <td>1.0</td>\n",
       "      <td>0.0</td>\n",
       "      <td>0.0</td>\n",
       "      <td>0.0</td>\n",
       "      <td>0.0</td>\n",
       "    </tr>\n",
       "    <tr>\n",
       "      <th>1</th>\n",
       "      <td>10001</td>\n",
       "      <td>43.0</td>\n",
       "      <td>3.0</td>\n",
       "      <td>1850.0</td>\n",
       "      <td>2.0</td>\n",
       "      <td>0.0</td>\n",
       "      <td>0.0</td>\n",
       "      <td>0.0</td>\n",
       "      <td>0.0</td>\n",
       "      <td>0.0</td>\n",
       "      <td>0.0</td>\n",
       "    </tr>\n",
       "    <tr>\n",
       "      <th>2</th>\n",
       "      <td>10002</td>\n",
       "      <td>52.0</td>\n",
       "      <td>1.0</td>\n",
       "      <td>1550.0</td>\n",
       "      <td>1.0</td>\n",
       "      <td>1.0</td>\n",
       "      <td>0.0</td>\n",
       "      <td>0.0</td>\n",
       "      <td>0.0</td>\n",
       "      <td>0.0</td>\n",
       "      <td>0.0</td>\n",
       "    </tr>\n",
       "    <tr>\n",
       "      <th>3</th>\n",
       "      <td>10003</td>\n",
       "      <td>57.0</td>\n",
       "      <td>6.0</td>\n",
       "      <td>2900.0</td>\n",
       "      <td>3.0</td>\n",
       "      <td>1.0</td>\n",
       "      <td>0.0</td>\n",
       "      <td>1.0</td>\n",
       "      <td>0.0</td>\n",
       "      <td>0.0</td>\n",
       "      <td>0.0</td>\n",
       "    </tr>\n",
       "    <tr>\n",
       "      <th>4</th>\n",
       "      <td>10004</td>\n",
       "      <td>44.0</td>\n",
       "      <td>4.0</td>\n",
       "      <td>3150.0</td>\n",
       "      <td>3.0</td>\n",
       "      <td>1.0</td>\n",
       "      <td>0.0</td>\n",
       "      <td>0.0</td>\n",
       "      <td>0.0</td>\n",
       "      <td>0.0</td>\n",
       "      <td>0.0</td>\n",
       "    </tr>\n",
       "  </tbody>\n",
       "</table>\n",
       "</div>"
      ],
      "text/plain": [
       "      Id   age  years_of_experience  lesson_price  qualification  physics  \\\n",
       "0  10000  46.0                  3.0        1050.0            1.0      0.0   \n",
       "1  10001  43.0                  3.0        1850.0            2.0      0.0   \n",
       "2  10002  52.0                  1.0        1550.0            1.0      1.0   \n",
       "3  10003  57.0                  6.0        2900.0            3.0      1.0   \n",
       "4  10004  44.0                  4.0        3150.0            3.0      1.0   \n",
       "\n",
       "   chemistry  biology  english  geography  history  \n",
       "0        1.0      0.0      0.0        0.0      0.0  \n",
       "1        0.0      0.0      0.0        0.0      0.0  \n",
       "2        0.0      0.0      0.0        0.0      0.0  \n",
       "3        0.0      1.0      0.0        0.0      0.0  \n",
       "4        0.0      0.0      0.0        0.0      0.0  "
      ]
     },
     "execution_count": 203,
     "metadata": {},
     "output_type": "execute_result"
    }
   ],
   "source": [
    "df_tst = pd.read_csv(TEST_DATASET_PATH)\n",
    "df_tst.head()"
   ]
  },
  {
   "cell_type": "code",
   "execution_count": 204,
   "metadata": {},
   "outputs": [
    {
     "name": "stdout",
     "output_type": "stream",
     "text": [
      "(10000, 11)\n"
     ]
    }
   ],
   "source": [
    "print(df_tst.shape)"
   ]
  },
  {
   "cell_type": "code",
   "execution_count": 205,
   "metadata": {},
   "outputs": [
    {
     "data": {
      "text/html": [
       "<div>\n",
       "<style scoped>\n",
       "    .dataframe tbody tr th:only-of-type {\n",
       "        vertical-align: middle;\n",
       "    }\n",
       "\n",
       "    .dataframe tbody tr th {\n",
       "        vertical-align: top;\n",
       "    }\n",
       "\n",
       "    .dataframe thead th {\n",
       "        text-align: right;\n",
       "    }\n",
       "</style>\n",
       "<table border=\"1\" class=\"dataframe\">\n",
       "  <thead>\n",
       "    <tr style=\"text-align: right;\">\n",
       "      <th></th>\n",
       "      <th>years_of_experience</th>\n",
       "      <th>lesson_price</th>\n",
       "      <th>physics</th>\n",
       "    </tr>\n",
       "  </thead>\n",
       "  <tbody>\n",
       "    <tr>\n",
       "      <th>0</th>\n",
       "      <td>0.3</td>\n",
       "      <td>0.220779</td>\n",
       "      <td>0.0</td>\n",
       "    </tr>\n",
       "    <tr>\n",
       "      <th>1</th>\n",
       "      <td>0.3</td>\n",
       "      <td>0.428571</td>\n",
       "      <td>0.0</td>\n",
       "    </tr>\n",
       "    <tr>\n",
       "      <th>2</th>\n",
       "      <td>0.1</td>\n",
       "      <td>0.350649</td>\n",
       "      <td>1.0</td>\n",
       "    </tr>\n",
       "    <tr>\n",
       "      <th>3</th>\n",
       "      <td>0.6</td>\n",
       "      <td>0.701299</td>\n",
       "      <td>1.0</td>\n",
       "    </tr>\n",
       "    <tr>\n",
       "      <th>4</th>\n",
       "      <td>0.4</td>\n",
       "      <td>0.766234</td>\n",
       "      <td>1.0</td>\n",
       "    </tr>\n",
       "  </tbody>\n",
       "</table>\n",
       "</div>"
      ],
      "text/plain": [
       "   years_of_experience  lesson_price  physics\n",
       "0                  0.3      0.220779      0.0\n",
       "1                  0.3      0.428571      0.0\n",
       "2                  0.1      0.350649      1.0\n",
       "3                  0.6      0.701299      1.0\n",
       "4                  0.4      0.766234      1.0"
      ]
     },
     "execution_count": 205,
     "metadata": {},
     "output_type": "execute_result"
    }
   ],
   "source": [
    "# в признаках оставим только релевантные, но из двух коррелирующих признаков qualification и \n",
    "# lesson_price выберем вторую, т.к. она более подробная\n",
    "df_X = pd.DataFrame(df_tst, columns=['years_of_experience','lesson_price','physics'])\n",
    "\n",
    "# и нормализуем эти признаки\n",
    "#df_XN = df_X.copy()\n",
    "df_XN = (df_X-df_X.min(axis=0))/(df_X.max(axis=0)-df_X.min(axis=0))\n",
    "df_XN.head()"
   ]
  },
  {
   "cell_type": "markdown",
   "metadata": {},
   "source": [
    "**заведем вектор ответа, инициализировав его нулями**"
   ]
  },
  {
   "cell_type": "code",
   "execution_count": 206,
   "metadata": {},
   "outputs": [],
   "source": [
    "yp = pd.DataFrame(df_tst, columns=['Id','physics'])\n",
    "yp['physics'] = 0\n",
    "yp.columns = ['Id','mean_exam_points']"
   ]
  },
  {
   "cell_type": "code",
   "execution_count": 210,
   "metadata": {},
   "outputs": [],
   "source": [
    "i = df_XN['physics']==0\n",
    "yp.loc[i,'mean_exam_points']= c0[0] + df_XN[i]['years_of_experience']*c0[1] + df_XN[i]['lesson_price']*c0[2] +     df_XN[i]['years_of_experience']**2*c0[3] + df_XN[i]['lesson_price']**2*c0[4] + df_XN[i]['lesson_price']*df_XN[i]['years_of_experience']*c0[5] "
   ]
  },
  {
   "cell_type": "code",
   "execution_count": null,
   "metadata": {},
   "outputs": [],
   "source": []
  },
  {
   "cell_type": "code",
   "execution_count": 211,
   "metadata": {
    "scrolled": true
   },
   "outputs": [],
   "source": [
    "i = df_XN['physics']==1\n",
    "yp.loc[i,'mean_exam_points']= c1[0] + df_XN[i]['years_of_experience']*c1[1] + df_XN[i]['lesson_price']*c1[2] + df_XN[i]['years_of_experience']**2*c1[3] + df_XN[i]['lesson_price']**2*c1[4] + df_XN[i]['lesson_price']*df_XN[i]['years_of_experience']*c1[5] "
   ]
  },
  {
   "cell_type": "code",
   "execution_count": 212,
   "metadata": {},
   "outputs": [],
   "source": [
    "yp.loc[yp['mean_exam_points']>100, 'mean_exam_points'] = 100"
   ]
  },
  {
   "cell_type": "code",
   "execution_count": 213,
   "metadata": {},
   "outputs": [
    {
     "data": {
      "text/plain": [
       "Id                  19999.0\n",
       "mean_exam_points      100.0\n",
       "dtype: float64"
      ]
     },
     "execution_count": 213,
     "metadata": {},
     "output_type": "execute_result"
    }
   ],
   "source": [
    "yp.max()"
   ]
  },
  {
   "cell_type": "code",
   "execution_count": 214,
   "metadata": {},
   "outputs": [
    {
     "data": {
      "text/html": [
       "<div>\n",
       "<style scoped>\n",
       "    .dataframe tbody tr th:only-of-type {\n",
       "        vertical-align: middle;\n",
       "    }\n",
       "\n",
       "    .dataframe tbody tr th {\n",
       "        vertical-align: top;\n",
       "    }\n",
       "\n",
       "    .dataframe thead th {\n",
       "        text-align: right;\n",
       "    }\n",
       "</style>\n",
       "<table border=\"1\" class=\"dataframe\">\n",
       "  <thead>\n",
       "    <tr style=\"text-align: right;\">\n",
       "      <th></th>\n",
       "      <th>Id</th>\n",
       "      <th>mean_exam_points</th>\n",
       "    </tr>\n",
       "  </thead>\n",
       "  <tbody>\n",
       "    <tr>\n",
       "      <th>0</th>\n",
       "      <td>10000</td>\n",
       "      <td>51.125385</td>\n",
       "    </tr>\n",
       "    <tr>\n",
       "      <th>1</th>\n",
       "      <td>10001</td>\n",
       "      <td>63.160182</td>\n",
       "    </tr>\n",
       "    <tr>\n",
       "      <th>2</th>\n",
       "      <td>10002</td>\n",
       "      <td>62.116237</td>\n",
       "    </tr>\n",
       "    <tr>\n",
       "      <th>3</th>\n",
       "      <td>10003</td>\n",
       "      <td>83.988198</td>\n",
       "    </tr>\n",
       "    <tr>\n",
       "      <th>4</th>\n",
       "      <td>10004</td>\n",
       "      <td>92.771954</td>\n",
       "    </tr>\n",
       "  </tbody>\n",
       "</table>\n",
       "</div>"
      ],
      "text/plain": [
       "      Id  mean_exam_points\n",
       "0  10000         51.125385\n",
       "1  10001         63.160182\n",
       "2  10002         62.116237\n",
       "3  10003         83.988198\n",
       "4  10004         92.771954"
      ]
     },
     "execution_count": 214,
     "metadata": {},
     "output_type": "execute_result"
    }
   ],
   "source": [
    "yp.head()"
   ]
  },
  {
   "cell_type": "code",
   "execution_count": 215,
   "metadata": {},
   "outputs": [],
   "source": [
    "yp['mean_exam_points'] = np.rint(yp['mean_exam_points'])"
   ]
  },
  {
   "cell_type": "code",
   "execution_count": 216,
   "metadata": {},
   "outputs": [
    {
     "data": {
      "text/html": [
       "<div>\n",
       "<style scoped>\n",
       "    .dataframe tbody tr th:only-of-type {\n",
       "        vertical-align: middle;\n",
       "    }\n",
       "\n",
       "    .dataframe tbody tr th {\n",
       "        vertical-align: top;\n",
       "    }\n",
       "\n",
       "    .dataframe thead th {\n",
       "        text-align: right;\n",
       "    }\n",
       "</style>\n",
       "<table border=\"1\" class=\"dataframe\">\n",
       "  <thead>\n",
       "    <tr style=\"text-align: right;\">\n",
       "      <th></th>\n",
       "      <th>Id</th>\n",
       "      <th>mean_exam_points</th>\n",
       "    </tr>\n",
       "  </thead>\n",
       "  <tbody>\n",
       "    <tr>\n",
       "      <th>0</th>\n",
       "      <td>10000</td>\n",
       "      <td>51.0</td>\n",
       "    </tr>\n",
       "    <tr>\n",
       "      <th>1</th>\n",
       "      <td>10001</td>\n",
       "      <td>63.0</td>\n",
       "    </tr>\n",
       "    <tr>\n",
       "      <th>2</th>\n",
       "      <td>10002</td>\n",
       "      <td>62.0</td>\n",
       "    </tr>\n",
       "    <tr>\n",
       "      <th>3</th>\n",
       "      <td>10003</td>\n",
       "      <td>84.0</td>\n",
       "    </tr>\n",
       "    <tr>\n",
       "      <th>4</th>\n",
       "      <td>10004</td>\n",
       "      <td>93.0</td>\n",
       "    </tr>\n",
       "  </tbody>\n",
       "</table>\n",
       "</div>"
      ],
      "text/plain": [
       "      Id  mean_exam_points\n",
       "0  10000              51.0\n",
       "1  10001              63.0\n",
       "2  10002              62.0\n",
       "3  10003              84.0\n",
       "4  10004              93.0"
      ]
     },
     "execution_count": 216,
     "metadata": {},
     "output_type": "execute_result"
    }
   ],
   "source": [
    "yp.head()"
   ]
  },
  {
   "cell_type": "code",
   "execution_count": 217,
   "metadata": {},
   "outputs": [],
   "source": [
    "yp.to_csv(PREP_DATASET_PATH, index=False)"
   ]
  },
  {
   "cell_type": "code",
   "execution_count": null,
   "metadata": {},
   "outputs": [],
   "source": []
  }
 ],
 "metadata": {
  "kernelspec": {
   "display_name": "Python 3",
   "language": "python",
   "name": "python3"
  },
  "language_info": {
   "codemirror_mode": {
    "name": "ipython",
    "version": 3
   },
   "file_extension": ".py",
   "mimetype": "text/x-python",
   "name": "python",
   "nbconvert_exporter": "python",
   "pygments_lexer": "ipython3",
   "version": "3.7.3"
  }
 },
 "nbformat": 4,
 "nbformat_minor": 2
}
