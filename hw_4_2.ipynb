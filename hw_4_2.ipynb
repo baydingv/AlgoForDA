{
 "cells": [
  {
   "cell_type": "markdown",
   "metadata": {
    "colab_type": "text",
    "id": "9yZFTHXJabXa"
   },
   "source": [
    "Реализуйте дерево для задачи регрессии. Возьмите за основу дерево, \n",
    "реализованное в методичке, заменив механизм предсказания в листе на взятие \n",
    "среднего значения по выборке, и критерий Джини на дисперсию значений."
   ]
  },
  {
   "cell_type": "code",
   "execution_count": 1,
   "metadata": {
    "colab": {},
    "colab_type": "code",
    "id": "u7Xi827dabXb"
   },
   "outputs": [],
   "source": [
    "import matplotlib.pyplot as plt\n",
    "%matplotlib inline\n",
    "import random\n",
    "\n",
    "from matplotlib.colors import ListedColormap\n",
    "from sklearn import datasets\n",
    "\n",
    "import numpy as np"
   ]
  },
  {
   "cell_type": "code",
   "execution_count": 2,
   "metadata": {
    "colab": {},
    "colab_type": "code",
    "id": "6FZaieu8abXe"
   },
   "outputs": [],
   "source": [
    "# сгенерируем данные\n",
    "classification_data, classification_labels = datasets.make_classification(n_features = 2, n_informative = 2, \n",
    "                                                      n_classes = 2, n_redundant=0, \n",
    "                                                      n_clusters_per_class=1, random_state=5)"
   ]
  },
  {
   "cell_type": "code",
   "execution_count": 3,
   "metadata": {
    "colab": {},
    "colab_type": "code",
    "id": "FHpOr1k6abXg",
    "outputId": "156a871e-72bd-4187-eb96-c6688945044e",
    "scrolled": false
   },
   "outputs": [
    {
     "data": {
      "text/plain": [
       "<matplotlib.collections.PathCollection at 0x1d61f9cfeb8>"
      ]
     },
     "execution_count": 3,
     "metadata": {},
     "output_type": "execute_result"
    },
    {
     "data": {
      "image/png": "[encoded data removed]",
      "text/plain": [
       "<Figure size 576x576 with 1 Axes>"
      ]
     },
     "metadata": {
      "needs_background": "light"
     },
     "output_type": "display_data"
    }
   ],
   "source": [
    "# визуализируем сгенерированные данные\n",
    "\n",
    "colors = ListedColormap(['red', 'blue'])\n",
    "light_colors = ListedColormap(['lightcoral', 'lightblue'])\n",
    "\n",
    "plt.figure(figsize=(8,8))\n",
    "plt.scatter(list(map(lambda x: x[0], classification_data)), list(map(lambda x: x[1], classification_data)), \n",
    "              c=classification_labels, cmap=colors)"
   ]
  },
  {
   "cell_type": "code",
   "execution_count": 4,
   "metadata": {
    "colab": {},
    "colab_type": "code",
    "id": "Duu45IJUabXi"
   },
   "outputs": [],
   "source": [
    "# Реализуем класс узла\n",
    "\n",
    "class Node:\n",
    "    \n",
    "    def __init__(self, index, t, true_branch, false_branch):\n",
    "        self.index = index  # индекс признака, по которому ведется сравнение с порогом в этом узле\n",
    "        self.t = t  # значение порога\n",
    "        self.true_branch = true_branch  # поддерево, удовлетворяющее условию в узле\n",
    "        self.false_branch = false_branch  # поддерево, не удовлетворяющее условию в узле"
   ]
  },
  {
   "cell_type": "code",
   "execution_count": 5,
   "metadata": {
    "colab": {},
    "colab_type": "code",
    "id": "QY8oNtakabXl"
   },
   "outputs": [],
   "source": [
    "# И класс терминального узла (листа)\n",
    "\n",
    "class Leaf:\n",
    "    \n",
    "    def __init__(self, data, labels):\n",
    "        self.data = data\n",
    "        self.labels = labels  # y_true\n",
    "        self.prediction = self.predict()  # y_pred\n",
    "        \n",
    "    def predict(self):\n",
    "        return self.labels.mean()        "
   ]
  },
  {
   "cell_type": "code",
   "execution_count": 6,
   "metadata": {
    "colab": {},
    "colab_type": "code",
    "id": "uBdli3WDabXn"
   },
   "outputs": [],
   "source": [
    "# Расчет критерия MSE/ не Джини!\n",
    "\n",
    "def gini(labels):\n",
    "    #  подсчет количества объектов разных классов\n",
    "    labs = labels - labels.mean()\n",
    "    return np.dot(labs,labs) / labels.shape[0]"
   ]
  },
  {
   "cell_type": "code",
   "execution_count": 7,
   "metadata": {
    "colab": {},
    "colab_type": "code",
    "id": "9vvLDhuRabXr"
   },
   "outputs": [],
   "source": [
    "# Расчет качества\n",
    "\n",
    "def quality(left_labels, right_labels, current_gini):\n",
    "\n",
    "    # доля выборки, ушедшей в левое поддерево\n",
    "    p = float(left_labels.shape[0]) / (left_labels.shape[0] + right_labels.shape[0])\n",
    "    \n",
    "    return current_gini - p * gini(left_labels) - (1 - p) * gini(right_labels)"
   ]
  },
  {
   "cell_type": "code",
   "execution_count": 8,
   "metadata": {
    "colab": {},
    "colab_type": "code",
    "id": "nhWkphi3abXt"
   },
   "outputs": [],
   "source": [
    "# Разбиение датасета в узле\n",
    "\n",
    "def split(data, labels, index, t):\n",
    "    \n",
    "    left = np.where(data[:, index] <= t)\n",
    "    right = np.where(data[:, index] > t)\n",
    "        \n",
    "    true_data = data[left]\n",
    "    false_data = data[right]\n",
    "    true_labels = labels[left]\n",
    "    false_labels = labels[right]\n",
    "        \n",
    "    return true_data, false_data, true_labels, false_labels"
   ]
  },
  {
   "cell_type": "code",
   "execution_count": 9,
   "metadata": {
    "colab": {},
    "colab_type": "code",
    "id": "5wi8Fbs_abXw"
   },
   "outputs": [],
   "source": [
    "# Нахождение наилучшего разбиения\n",
    "\n",
    "def find_best_split(data, labels):\n",
    "    # C.  Критерий останова по мин количеству объектов в узле (этот критерий уже есть в оригинале)\n",
    "    #  обозначим минимальное количество объектов в узле   \n",
    "    min_leaf = 6\n",
    "\n",
    "    current_gini = gini(labels)\n",
    "\n",
    "    best_quality = 0\n",
    "    best_t = None\n",
    "    best_index = None\n",
    "    \n",
    "    n_features = 1 #data.shape[1] # здесь только одна независимая переменная - х\n",
    "    \n",
    "    for index in range(n_features):\n",
    "        t_values = [row[index] for row in data]\n",
    "        \n",
    "        for t in t_values:\n",
    "            true_data, false_data, true_labels, false_labels = split(data, labels, index, t)\n",
    "            #  пропускаем разбиения, в которых в узле остается менее 5 объектов\n",
    "            if len(true_data) < min_leaf or len(false_data) < min_leaf:\n",
    "                continue\n",
    "            \n",
    "            current_quality = quality(true_labels, false_labels, current_gini)\n",
    "            \n",
    "            #  выбираем порог, на котором получается максимальный прирост качества\n",
    "            if current_quality > best_quality:\n",
    "                best_quality, best_t, best_index = current_quality, t, index\n",
    "\n",
    "    return best_quality, best_t, best_index"
   ]
  },
  {
   "cell_type": "code",
   "execution_count": 10,
   "metadata": {
    "colab": {},
    "colab_type": "code",
    "id": "f1__qSXSabXy"
   },
   "outputs": [],
   "source": [
    "# Построение дерева с помощью рекурсивной функции\n",
    "\n",
    "def build_tree(data, labels, level, num_leafs):\n",
    "    max_num_leafs = 3\n",
    "    max_level     = 5  \n",
    "    eps = 0.01\n",
    "    \n",
    "    # B.  Критерий останова по макс количеству листьев\n",
    "    if num_leafs> max_num_leafs:\n",
    "        print('превышение максимального числа листьв!')\n",
    "        num_leafs += 1\n",
    "        return Leaf(data, labels),num_leafs\n",
    "    \n",
    "    \n",
    "    # D.  Критерий останова по точному определению классa\n",
    "    length = len(labels)\n",
    "    print(length,len(labels[labels==0]),len(labels[labels==1]))\n",
    "    if len(labels[labels==0])==length or len(labels[labels==1])==length:\n",
    "        print('все объекты одного класса!')\n",
    "        num_leafs += 1\n",
    "        return Leaf(data, labels),num_leafs\n",
    "    \n",
    "    \n",
    "    # A.  Критерий останова по макс глубине\n",
    "    # первый вызов делается с level = 0\n",
    "    level += 1\n",
    "    if level> max_level:\n",
    "        print('превышение максимальной глубины дерева!')\n",
    "        num_leafs += 1\n",
    "        return Leaf(data, labels),num_leafs\n",
    "    \n",
    "    \n",
    "    quality, t, index = find_best_split(data, labels)\n",
    "\n",
    "    # E.  Критерий останова по \n",
    "    #  Базовый случай - прекращаем рекурсию, когда нет прироста в качества\n",
    "    #    if quality == 0:\n",
    "    if quality < eps:\n",
    "        print('останов по недостаточному улучшению качества! q=',quality)\n",
    "        num_leafs += 1\n",
    "        return Leaf(data, labels),num_leafs\n",
    "    \n",
    "    \n",
    "\n",
    "    true_data, false_data, true_labels, false_labels = split(data, labels, index, t)\n",
    "\n",
    "    # Рекурсивно строим два поддерева\n",
    "    true_branch,num_leafsL = build_tree( true_data,  true_labels,  level, num_leafs)\n",
    "    false_branch,num_leafsR = build_tree(false_data, false_labels, level, num_leafs)\n",
    "\n",
    "    # Возвращаем класс узла со всеми поддеревьями, то есть целого дерева\n",
    "    num_leafs = num_leafsL + num_leafsR\n",
    "    return Node(index, t, true_branch, false_branch),num_leafs"
   ]
  },
  {
   "cell_type": "code",
   "execution_count": 11,
   "metadata": {
    "colab": {},
    "colab_type": "code",
    "id": "F7ruKazCabX3"
   },
   "outputs": [],
   "source": [
    "# Проход объекта по дереву для его классификации\n",
    "\n",
    "def classify_object(obj, node):\n",
    "\n",
    "    #  Останавливаем рекурсию, если достигли листа\n",
    "    if isinstance(node, Leaf):\n",
    "        answer = node.prediction\n",
    "        return answer\n",
    "\n",
    "    if obj[node.index] <= node.t:\n",
    "        return classify_object(obj, node.true_branch)\n",
    "    else:\n",
    "        return classify_object(obj, node.false_branch)"
   ]
  },
  {
   "cell_type": "code",
   "execution_count": 12,
   "metadata": {
    "colab": {},
    "colab_type": "code",
    "id": "SLOdTAqdabX7"
   },
   "outputs": [],
   "source": [
    "# Предсказание деревом для всего датасета\n",
    "\n",
    "def predict(data, tree):\n",
    "    \n",
    "    classes = []\n",
    "    for obj in data:\n",
    "        prediction = classify_object(obj, tree)\n",
    "        classes.append(prediction)\n",
    "    return classes"
   ]
  },
  {
   "cell_type": "code",
   "execution_count": 13,
   "metadata": {
    "colab": {},
    "colab_type": "code",
    "id": "wnDPkwVJabYA"
   },
   "outputs": [],
   "source": [
    "# Разобьем выборку на обучающую и тестовую\n",
    "\n",
    "from sklearn import model_selection\n",
    "\n",
    "train_data, test_data, train_labels, test_labels = model_selection.train_test_split(classification_data, \n",
    "                                                                                     classification_labels, \n",
    "                                                                                     test_size = 0.3,\n",
    "                                                                                     random_state = 1)\n",
    "train_labels = train_data[:,1].copy()\n",
    "test_labels  =  test_data[:,1].copy()"
   ]
  },
  {
   "cell_type": "code",
   "execution_count": 14,
   "metadata": {
    "colab": {},
    "colab_type": "code",
    "id": "UbbvkqvOabYD"
   },
   "outputs": [
    {
     "name": "stdout",
     "output_type": "stream",
     "text": [
      "70 0 0\n",
      "9 0 0\n",
      "останов по недостаточному улучшению качества! q= 0\n",
      "61 0 0\n",
      "52 0 0\n",
      "31 0 0\n",
      "18 0 0\n",
      "6 0 0\n",
      "превышение максимальной глубины дерева!\n",
      "12 0 0\n",
      "превышение максимальной глубины дерева!\n",
      "13 0 0\n",
      "7 0 0\n",
      "превышение максимальной глубины дерева!\n",
      "6 0 0\n",
      "превышение максимальной глубины дерева!\n",
      "21 0 0\n",
      "9 0 0\n",
      "останов по недостаточному улучшению качества! q= 0\n",
      "12 0 0\n",
      "останов по недостаточному улучшению качества! q= 0.00010115461913432627\n",
      "9 0 0\n",
      "останов по недостаточному улучшению качества! q= 0\n",
      "8\n"
     ]
    }
   ],
   "source": [
    "# Построим дерево по обучающей выборке\n",
    "num_leafs = 0\n",
    "\n",
    "my_tree, num_leafs = build_tree(train_data, train_labels, 0, 0)\n",
    "print(num_leafs)"
   ]
  },
  {
   "cell_type": "code",
   "execution_count": 15,
   "metadata": {
    "colab": {},
    "colab_type": "code",
    "id": "GF1rVs9VabYG",
    "outputId": "2da01ba5-e2df-40f9-f613-a34bfc7733d0"
   },
   "outputs": [
    {
     "name": "stdout",
     "output_type": "stream",
     "text": [
      "Индекс 0\n",
      "Порог -1.2499312777434102\n",
      "--> True:\n",
      "  Прогноз: -1.85336005049842\n",
      "--> False:\n",
      "  Индекс 0\n",
      "  Порог 1.8320652455044126\n",
      "  --> True:\n",
      "    Индекс 0\n",
      "    Порог 0.16261402870113306\n",
      "    --> True:\n",
      "      Индекс 0\n",
      "      Порог -0.4942656820712277\n",
      "      --> True:\n",
      "        Индекс 0\n",
      "        Порог -0.9715037016309751\n",
      "        --> True:\n",
      "          Прогноз: -0.642834876715078\n",
      "        --> False:\n",
      "          Прогноз: -0.9737650537294734\n",
      "      --> False:\n",
      "        Индекс 0\n",
      "        Порог -0.09195833713035761\n",
      "        --> True:\n",
      "          Прогноз: -0.254058537154527\n",
      "        --> False:\n",
      "          Прогноз: -0.6381679726568997\n",
      "    --> False:\n",
      "      Индекс 0\n",
      "      Порог 0.7469239043288685\n",
      "      --> True:\n",
      "        Прогноз: -1.309714843709416\n",
      "      --> False:\n",
      "        Прогноз: -0.9221842684400515\n",
      "  --> False:\n",
      "    Прогноз: -0.3175047707405911\n"
     ]
    }
   ],
   "source": [
    "# Напечатаем ход нашего дерева\n",
    "def print_tree(node, spacing=\"\"):\n",
    "\n",
    "    # Если лист, то выводим его прогноз\n",
    "    if isinstance(node, Leaf):\n",
    "        print(spacing + \"Прогноз:\", node.prediction)\n",
    "        return\n",
    "\n",
    "    # Выведем значение индекса и порога на этом узле\n",
    "    print(spacing + 'Индекс', str(node.index))\n",
    "    print(spacing + 'Порог', str(node.t))\n",
    "\n",
    "    # Рекурсионный вызов функции на положительном поддереве\n",
    "    print (spacing + '--> True:')\n",
    "    print_tree(node.true_branch, spacing + \"  \")\n",
    "\n",
    "    # Рекурсионный вызов функции на положительном поддереве\n",
    "    print (spacing + '--> False:')\n",
    "    print_tree(node.false_branch, spacing + \"  \")\n",
    "    \n",
    "print_tree(my_tree)"
   ]
  },
  {
   "cell_type": "code",
   "execution_count": 24,
   "metadata": {
    "colab": {},
    "colab_type": "code",
    "id": "CyvzFQp3abYI"
   },
   "outputs": [],
   "source": [
    "# Получим ответы для обучающей выборки \n",
    "train_answers = predict(train_data, my_tree)"
   ]
  },
  {
   "cell_type": "code",
   "execution_count": 25,
   "metadata": {
    "colab": {},
    "colab_type": "code",
    "id": "Rl6IyN8yabYN"
   },
   "outputs": [],
   "source": [
    "# И получим ответы для тестовой выборки\n",
    "answers = predict(test_data, my_tree)"
   ]
  },
  {
   "cell_type": "code",
   "execution_count": 28,
   "metadata": {
    "colab": {},
    "colab_type": "code",
    "id": "2odXAe7vabYP"
   },
   "outputs": [],
   "source": [
    "# Введем функцию подсчета точности как дисперсия ответов в \"листе\"\n",
    "def accuracy_metric(actual, predicted):\n",
    "    correct = 0\n",
    "    for i in range(len(actual)):\n",
    "        correct += (actual[i] - predicted[i])**2\n",
    "    return correct / float(len(actual)) * 100.0"
   ]
  },
  {
   "cell_type": "code",
   "execution_count": 29,
   "metadata": {
    "colab": {},
    "colab_type": "code",
    "id": "Jn0L6r8CabYS",
    "outputId": "901a6dd3-6e6a-4d8a-e019-0c09ad410dc0"
   },
   "outputs": [
    {
     "data": {
      "text/plain": [
       "33.67758429836434"
      ]
     },
     "execution_count": 29,
     "metadata": {},
     "output_type": "execute_result"
    }
   ],
   "source": [
    "# Точность на обучающей выборке\n",
    "train_accuracy = accuracy_metric(train_labels, train_answers)\n",
    "train_accuracy"
   ]
  },
  {
   "cell_type": "code",
   "execution_count": 30,
   "metadata": {
    "colab": {},
    "colab_type": "code",
    "id": "D__eGtLRabYU",
    "outputId": "65b8c452-d407-4121-f159-e4c8040970fa"
   },
   "outputs": [
    {
     "data": {
      "text/plain": [
       "38.00535528189488"
      ]
     },
     "execution_count": 30,
     "metadata": {},
     "output_type": "execute_result"
    }
   ],
   "source": [
    "# Точность на тестовой выборке\n",
    "test_accuracy = accuracy_metric(test_labels, answers)\n",
    "test_accuracy"
   ]
  },
  {
   "cell_type": "code",
   "execution_count": 32,
   "metadata": {
    "colab": {},
    "colab_type": "code",
    "id": "TEHbV9hXabYW",
    "outputId": "fd90ddf4-88a0-4721-8681-c79bdfb405d8"
   },
   "outputs": [
    {
     "data": {
      "text/plain": [
       "Text(0.5, 1.0, 'Test dispersion=38.01')"
      ]
     },
     "execution_count": 32,
     "metadata": {},
     "output_type": "execute_result"
    },
    {
     "data": {
      "image/png": "[encoded data removed]",
      "text/plain": [
       "<Figure size 1152x504 with 2 Axes>"
      ]
     },
     "metadata": {
      "needs_background": "light"
     },
     "output_type": "display_data"
    }
   ],
   "source": [
    "# Визуализируем дерево на графике\n",
    "plt.figure(figsize = (16, 7))\n",
    "\n",
    "# график обучающей выборки\n",
    "plt.subplot(1,2,1)\n",
    "plt.scatter(train_data[:, 0], train_data[:, 1], c = 'b')\n",
    "plt.scatter(train_data[:, 0], train_answers,     c = 'r')\n",
    "plt.title(f'Train dispersion={train_accuracy:.2f}')\n",
    "\n",
    "# график тестовой выборки\n",
    "plt.subplot(1,2,2)\n",
    "plt.scatter(test_data[:, 0], test_data[:, 1], c = 'b')\n",
    "plt.scatter(test_data[:, 0], answers,     c = 'r')\n",
    "plt.title(f'Test dispersion={test_accuracy:.2f}')\n"
   ]
  },
  {
   "cell_type": "code",
   "execution_count": null,
   "metadata": {},
   "outputs": [],
   "source": []
  }
 ],
 "metadata": {
  "colab": {
   "collapsed_sections": [],
   "name": "Lesson_4.ipynb",
   "provenance": []
  },
  "kernelspec": {
   "display_name": "Python 3",
   "language": "python",
   "name": "python3"
  },
  "language_info": {
   "codemirror_mode": {
    "name": "ipython",
    "version": 3
   },
   "file_extension": ".py",
   "mimetype": "text/x-python",
   "name": "python",
   "nbconvert_exporter": "python",
   "pygments_lexer": "ipython3",
   "version": "3.7.3"
  }
 },
 "nbformat": 4,
 "nbformat_minor": 1
}
