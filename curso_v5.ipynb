{
 "cells": [
  {
   "cell_type": "markdown",
   "metadata": {},
   "source": [
    "**Подключение библиотек и скриптов**"
   ]
  },
  {
   "cell_type": "code",
   "execution_count": 1,
   "metadata": {},
   "outputs": [],
   "source": [
    "import numpy as np\n",
    "from numpy.linalg import inv\n",
    "import pandas as pd\n",
    "from sklearn.model_selection import train_test_split"
   ]
  },
  {
   "cell_type": "code",
   "execution_count": 2,
   "metadata": {},
   "outputs": [],
   "source": [
    "def r2_quality(y_prd, y_tru):\n",
    "    y_mn = np.average(y_tru,axis=0)\n",
    "    return 1.0 - np.sum((y_prd - y_tru)**2)/np.sum((y_tru - y_mn)**2)"
   ]
  },
  {
   "cell_type": "markdown",
   "metadata": {},
   "source": [
    "**Пути к директориям и файлам**"
   ]
  },
  {
   "cell_type": "code",
   "execution_count": 3,
   "metadata": {},
   "outputs": [],
   "source": [
    "# input\n",
    "TRAIN_DATASET_PATH = 'train.csv'\n",
    "TEST_DATASET_PATH  = 'test.csv'\n",
    "\n",
    "# output\n",
    "PREP_DATASET_PATH  = 'GB_predictions.csv'"
   ]
  },
  {
   "cell_type": "markdown",
   "metadata": {},
   "source": [
    "**Загрузка  данных<a class=\"anchor\" id=\"load_data\"></a>**"
   ]
  },
  {
   "cell_type": "code",
   "execution_count": 49,
   "metadata": {
    "scrolled": false
   },
   "outputs": [
    {
     "data": {
      "text/html": [
       "<div>\n",
       "<style scoped>\n",
       "    .dataframe tbody tr th:only-of-type {\n",
       "        vertical-align: middle;\n",
       "    }\n",
       "\n",
       "    .dataframe tbody tr th {\n",
       "        vertical-align: top;\n",
       "    }\n",
       "\n",
       "    .dataframe thead th {\n",
       "        text-align: right;\n",
       "    }\n",
       "</style>\n",
       "<table border=\"1\" class=\"dataframe\">\n",
       "  <thead>\n",
       "    <tr style=\"text-align: right;\">\n",
       "      <th></th>\n",
       "      <th>Id</th>\n",
       "      <th>age</th>\n",
       "      <th>years_of_experience</th>\n",
       "      <th>lesson_price</th>\n",
       "      <th>qualification</th>\n",
       "      <th>physics</th>\n",
       "      <th>chemistry</th>\n",
       "      <th>biology</th>\n",
       "      <th>english</th>\n",
       "      <th>geography</th>\n",
       "      <th>history</th>\n",
       "      <th>mean_exam_points</th>\n",
       "    </tr>\n",
       "  </thead>\n",
       "  <tbody>\n",
       "    <tr>\n",
       "      <th>0</th>\n",
       "      <td>0</td>\n",
       "      <td>40.0</td>\n",
       "      <td>0.0</td>\n",
       "      <td>1400.0</td>\n",
       "      <td>1.0</td>\n",
       "      <td>1.0</td>\n",
       "      <td>0.0</td>\n",
       "      <td>0.0</td>\n",
       "      <td>0.0</td>\n",
       "      <td>1.0</td>\n",
       "      <td>0.0</td>\n",
       "      <td>63.0</td>\n",
       "    </tr>\n",
       "    <tr>\n",
       "      <th>1</th>\n",
       "      <td>1</td>\n",
       "      <td>48.0</td>\n",
       "      <td>4.0</td>\n",
       "      <td>2850.0</td>\n",
       "      <td>3.0</td>\n",
       "      <td>1.0</td>\n",
       "      <td>0.0</td>\n",
       "      <td>0.0</td>\n",
       "      <td>0.0</td>\n",
       "      <td>0.0</td>\n",
       "      <td>0.0</td>\n",
       "      <td>86.0</td>\n",
       "    </tr>\n",
       "    <tr>\n",
       "      <th>2</th>\n",
       "      <td>2</td>\n",
       "      <td>39.0</td>\n",
       "      <td>0.0</td>\n",
       "      <td>1200.0</td>\n",
       "      <td>1.0</td>\n",
       "      <td>0.0</td>\n",
       "      <td>0.0</td>\n",
       "      <td>0.0</td>\n",
       "      <td>0.0</td>\n",
       "      <td>0.0</td>\n",
       "      <td>0.0</td>\n",
       "      <td>53.0</td>\n",
       "    </tr>\n",
       "    <tr>\n",
       "      <th>3</th>\n",
       "      <td>3</td>\n",
       "      <td>46.0</td>\n",
       "      <td>5.0</td>\n",
       "      <td>1400.0</td>\n",
       "      <td>1.0</td>\n",
       "      <td>0.0</td>\n",
       "      <td>0.0</td>\n",
       "      <td>0.0</td>\n",
       "      <td>0.0</td>\n",
       "      <td>0.0</td>\n",
       "      <td>0.0</td>\n",
       "      <td>56.0</td>\n",
       "    </tr>\n",
       "    <tr>\n",
       "      <th>4</th>\n",
       "      <td>4</td>\n",
       "      <td>43.0</td>\n",
       "      <td>1.0</td>\n",
       "      <td>1500.0</td>\n",
       "      <td>1.0</td>\n",
       "      <td>0.0</td>\n",
       "      <td>0.0</td>\n",
       "      <td>0.0</td>\n",
       "      <td>0.0</td>\n",
       "      <td>0.0</td>\n",
       "      <td>0.0</td>\n",
       "      <td>59.0</td>\n",
       "    </tr>\n",
       "  </tbody>\n",
       "</table>\n",
       "</div>"
      ],
      "text/plain": [
       "   Id   age  years_of_experience  lesson_price  qualification  physics  \\\n",
       "0   0  40.0                  0.0        1400.0            1.0      1.0   \n",
       "1   1  48.0                  4.0        2850.0            3.0      1.0   \n",
       "2   2  39.0                  0.0        1200.0            1.0      0.0   \n",
       "3   3  46.0                  5.0        1400.0            1.0      0.0   \n",
       "4   4  43.0                  1.0        1500.0            1.0      0.0   \n",
       "\n",
       "   chemistry  biology  english  geography  history  mean_exam_points  \n",
       "0        0.0      0.0      0.0        1.0      0.0              63.0  \n",
       "1        0.0      0.0      0.0        0.0      0.0              86.0  \n",
       "2        0.0      0.0      0.0        0.0      0.0              53.0  \n",
       "3        0.0      0.0      0.0        0.0      0.0              56.0  \n",
       "4        0.0      0.0      0.0        0.0      0.0              59.0  "
      ]
     },
     "execution_count": 49,
     "metadata": {},
     "output_type": "execute_result"
    }
   ],
   "source": [
    "df = pd.read_csv(TRAIN_DATASET_PATH)\n",
    "df.head()"
   ]
  },
  {
   "cell_type": "code",
   "execution_count": 50,
   "metadata": {},
   "outputs": [
    {
     "data": {
      "text/html": [
       "<div>\n",
       "<style scoped>\n",
       "    .dataframe tbody tr th:only-of-type {\n",
       "        vertical-align: middle;\n",
       "    }\n",
       "\n",
       "    .dataframe tbody tr th {\n",
       "        vertical-align: top;\n",
       "    }\n",
       "\n",
       "    .dataframe thead th {\n",
       "        text-align: right;\n",
       "    }\n",
       "</style>\n",
       "<table border=\"1\" class=\"dataframe\">\n",
       "  <thead>\n",
       "    <tr style=\"text-align: right;\">\n",
       "      <th></th>\n",
       "      <th>Id</th>\n",
       "      <th>age</th>\n",
       "      <th>years_of_experience</th>\n",
       "      <th>lesson_price</th>\n",
       "      <th>qualification</th>\n",
       "      <th>physics</th>\n",
       "      <th>chemistry</th>\n",
       "      <th>biology</th>\n",
       "      <th>english</th>\n",
       "      <th>geography</th>\n",
       "      <th>history</th>\n",
       "      <th>mean_exam_points</th>\n",
       "    </tr>\n",
       "  </thead>\n",
       "  <tbody>\n",
       "    <tr>\n",
       "      <th>Id</th>\n",
       "      <td>1.000000</td>\n",
       "      <td>-0.004596</td>\n",
       "      <td>0.007408</td>\n",
       "      <td>-0.004433</td>\n",
       "      <td>-0.005077</td>\n",
       "      <td>-0.010570</td>\n",
       "      <td>0.002694</td>\n",
       "      <td>-0.000016</td>\n",
       "      <td>0.017723</td>\n",
       "      <td>-0.014869</td>\n",
       "      <td>-0.004482</td>\n",
       "      <td>0.004121</td>\n",
       "    </tr>\n",
       "    <tr>\n",
       "      <th>age</th>\n",
       "      <td>-0.004596</td>\n",
       "      <td>1.000000</td>\n",
       "      <td>0.059947</td>\n",
       "      <td>-0.005462</td>\n",
       "      <td>-0.000976</td>\n",
       "      <td>0.004045</td>\n",
       "      <td>0.001250</td>\n",
       "      <td>-0.005026</td>\n",
       "      <td>-0.012546</td>\n",
       "      <td>0.013130</td>\n",
       "      <td>0.010606</td>\n",
       "      <td>-0.007646</td>\n",
       "    </tr>\n",
       "    <tr>\n",
       "      <th>years_of_experience</th>\n",
       "      <td>0.007408</td>\n",
       "      <td>0.059947</td>\n",
       "      <td>1.000000</td>\n",
       "      <td>0.248311</td>\n",
       "      <td>0.194097</td>\n",
       "      <td>0.008451</td>\n",
       "      <td>0.004246</td>\n",
       "      <td>-0.001722</td>\n",
       "      <td>-0.010241</td>\n",
       "      <td>-0.011129</td>\n",
       "      <td>0.018640</td>\n",
       "      <td>0.205417</td>\n",
       "    </tr>\n",
       "    <tr>\n",
       "      <th>lesson_price</th>\n",
       "      <td>-0.004433</td>\n",
       "      <td>-0.005462</td>\n",
       "      <td>0.248311</td>\n",
       "      <td>1.000000</td>\n",
       "      <td>0.790087</td>\n",
       "      <td>-0.006432</td>\n",
       "      <td>0.005130</td>\n",
       "      <td>-0.004860</td>\n",
       "      <td>-0.012018</td>\n",
       "      <td>0.010525</td>\n",
       "      <td>-0.001142</td>\n",
       "      <td>0.721179</td>\n",
       "    </tr>\n",
       "    <tr>\n",
       "      <th>qualification</th>\n",
       "      <td>-0.005077</td>\n",
       "      <td>-0.000976</td>\n",
       "      <td>0.194097</td>\n",
       "      <td>0.790087</td>\n",
       "      <td>1.000000</td>\n",
       "      <td>0.007529</td>\n",
       "      <td>-0.002683</td>\n",
       "      <td>-0.007504</td>\n",
       "      <td>-0.008047</td>\n",
       "      <td>0.003610</td>\n",
       "      <td>-0.005109</td>\n",
       "      <td>0.755963</td>\n",
       "    </tr>\n",
       "    <tr>\n",
       "      <th>physics</th>\n",
       "      <td>-0.010570</td>\n",
       "      <td>0.004045</td>\n",
       "      <td>0.008451</td>\n",
       "      <td>-0.006432</td>\n",
       "      <td>0.007529</td>\n",
       "      <td>1.000000</td>\n",
       "      <td>0.019852</td>\n",
       "      <td>0.000661</td>\n",
       "      <td>0.004238</td>\n",
       "      <td>0.001904</td>\n",
       "      <td>0.004867</td>\n",
       "      <td>0.187726</td>\n",
       "    </tr>\n",
       "    <tr>\n",
       "      <th>chemistry</th>\n",
       "      <td>0.002694</td>\n",
       "      <td>0.001250</td>\n",
       "      <td>0.004246</td>\n",
       "      <td>0.005130</td>\n",
       "      <td>-0.002683</td>\n",
       "      <td>0.019852</td>\n",
       "      <td>1.000000</td>\n",
       "      <td>0.007866</td>\n",
       "      <td>0.009974</td>\n",
       "      <td>-0.004447</td>\n",
       "      <td>-0.008079</td>\n",
       "      <td>0.017825</td>\n",
       "    </tr>\n",
       "    <tr>\n",
       "      <th>biology</th>\n",
       "      <td>-0.000016</td>\n",
       "      <td>-0.005026</td>\n",
       "      <td>-0.001722</td>\n",
       "      <td>-0.004860</td>\n",
       "      <td>-0.007504</td>\n",
       "      <td>0.000661</td>\n",
       "      <td>0.007866</td>\n",
       "      <td>1.000000</td>\n",
       "      <td>0.010146</td>\n",
       "      <td>-0.013042</td>\n",
       "      <td>0.010995</td>\n",
       "      <td>0.023022</td>\n",
       "    </tr>\n",
       "    <tr>\n",
       "      <th>english</th>\n",
       "      <td>0.017723</td>\n",
       "      <td>-0.012546</td>\n",
       "      <td>-0.010241</td>\n",
       "      <td>-0.012018</td>\n",
       "      <td>-0.008047</td>\n",
       "      <td>0.004238</td>\n",
       "      <td>0.009974</td>\n",
       "      <td>0.010146</td>\n",
       "      <td>1.000000</td>\n",
       "      <td>-0.008148</td>\n",
       "      <td>-0.004560</td>\n",
       "      <td>0.013174</td>\n",
       "    </tr>\n",
       "    <tr>\n",
       "      <th>geography</th>\n",
       "      <td>-0.014869</td>\n",
       "      <td>0.013130</td>\n",
       "      <td>-0.011129</td>\n",
       "      <td>0.010525</td>\n",
       "      <td>0.003610</td>\n",
       "      <td>0.001904</td>\n",
       "      <td>-0.004447</td>\n",
       "      <td>-0.013042</td>\n",
       "      <td>-0.008148</td>\n",
       "      <td>1.000000</td>\n",
       "      <td>-0.005049</td>\n",
       "      <td>0.014401</td>\n",
       "    </tr>\n",
       "    <tr>\n",
       "      <th>history</th>\n",
       "      <td>-0.004482</td>\n",
       "      <td>0.010606</td>\n",
       "      <td>0.018640</td>\n",
       "      <td>-0.001142</td>\n",
       "      <td>-0.005109</td>\n",
       "      <td>0.004867</td>\n",
       "      <td>-0.008079</td>\n",
       "      <td>0.010995</td>\n",
       "      <td>-0.004560</td>\n",
       "      <td>-0.005049</td>\n",
       "      <td>1.000000</td>\n",
       "      <td>-0.000113</td>\n",
       "    </tr>\n",
       "    <tr>\n",
       "      <th>mean_exam_points</th>\n",
       "      <td>0.004121</td>\n",
       "      <td>-0.007646</td>\n",
       "      <td>0.205417</td>\n",
       "      <td>0.721179</td>\n",
       "      <td>0.755963</td>\n",
       "      <td>0.187726</td>\n",
       "      <td>0.017825</td>\n",
       "      <td>0.023022</td>\n",
       "      <td>0.013174</td>\n",
       "      <td>0.014401</td>\n",
       "      <td>-0.000113</td>\n",
       "      <td>1.000000</td>\n",
       "    </tr>\n",
       "  </tbody>\n",
       "</table>\n",
       "</div>"
      ],
      "text/plain": [
       "                           Id       age  years_of_experience  lesson_price  \\\n",
       "Id                   1.000000 -0.004596             0.007408     -0.004433   \n",
       "age                 -0.004596  1.000000             0.059947     -0.005462   \n",
       "years_of_experience  0.007408  0.059947             1.000000      0.248311   \n",
       "lesson_price        -0.004433 -0.005462             0.248311      1.000000   \n",
       "qualification       -0.005077 -0.000976             0.194097      0.790087   \n",
       "physics             -0.010570  0.004045             0.008451     -0.006432   \n",
       "chemistry            0.002694  0.001250             0.004246      0.005130   \n",
       "biology             -0.000016 -0.005026            -0.001722     -0.004860   \n",
       "english              0.017723 -0.012546            -0.010241     -0.012018   \n",
       "geography           -0.014869  0.013130            -0.011129      0.010525   \n",
       "history             -0.004482  0.010606             0.018640     -0.001142   \n",
       "mean_exam_points     0.004121 -0.007646             0.205417      0.721179   \n",
       "\n",
       "                     qualification   physics  chemistry   biology   english  \\\n",
       "Id                       -0.005077 -0.010570   0.002694 -0.000016  0.017723   \n",
       "age                      -0.000976  0.004045   0.001250 -0.005026 -0.012546   \n",
       "years_of_experience       0.194097  0.008451   0.004246 -0.001722 -0.010241   \n",
       "lesson_price              0.790087 -0.006432   0.005130 -0.004860 -0.012018   \n",
       "qualification             1.000000  0.007529  -0.002683 -0.007504 -0.008047   \n",
       "physics                   0.007529  1.000000   0.019852  0.000661  0.004238   \n",
       "chemistry                -0.002683  0.019852   1.000000  0.007866  0.009974   \n",
       "biology                  -0.007504  0.000661   0.007866  1.000000  0.010146   \n",
       "english                  -0.008047  0.004238   0.009974  0.010146  1.000000   \n",
       "geography                 0.003610  0.001904  -0.004447 -0.013042 -0.008148   \n",
       "history                  -0.005109  0.004867  -0.008079  0.010995 -0.004560   \n",
       "mean_exam_points          0.755963  0.187726   0.017825  0.023022  0.013174   \n",
       "\n",
       "                     geography   history  mean_exam_points  \n",
       "Id                   -0.014869 -0.004482          0.004121  \n",
       "age                   0.013130  0.010606         -0.007646  \n",
       "years_of_experience  -0.011129  0.018640          0.205417  \n",
       "lesson_price          0.010525 -0.001142          0.721179  \n",
       "qualification         0.003610 -0.005109          0.755963  \n",
       "physics               0.001904  0.004867          0.187726  \n",
       "chemistry            -0.004447 -0.008079          0.017825  \n",
       "biology              -0.013042  0.010995          0.023022  \n",
       "english              -0.008148 -0.004560          0.013174  \n",
       "geography             1.000000 -0.005049          0.014401  \n",
       "history              -0.005049  1.000000         -0.000113  \n",
       "mean_exam_points      0.014401 -0.000113          1.000000  "
      ]
     },
     "execution_count": 50,
     "metadata": {},
     "output_type": "execute_result"
    }
   ],
   "source": [
    "df.corr()"
   ]
  },
  {
   "cell_type": "markdown",
   "metadata": {},
   "source": [
    "**Подготовка данных**"
   ]
  },
  {
   "cell_type": "code",
   "execution_count": 51,
   "metadata": {},
   "outputs": [],
   "source": [
    "# отделим таргет и data\n",
    "y_tot = df['mean_exam_points']\n",
    "df_X  = pd.DataFrame(df, columns=['years_of_experience','lesson_price','qualification','physics','chemistry','biology'])"
   ]
  },
  {
   "cell_type": "code",
   "execution_count": 52,
   "metadata": {},
   "outputs": [],
   "source": [
    "# разобъем на тренировочный и тестовый датасеты\n",
    "X_trn,X_tst, y,y_tst = train_test_split(df_X,y_tot, test_size = 0.3, random_state = 53)\n",
    "\n",
    "# и нормализуем эти признаки\n",
    "X = np.array((X_trn-X_trn.min(axis=0))/(X_trn.max(axis=0)-X_trn.min(axis=0))) "
   ]
  },
  {
   "cell_type": "markdown",
   "metadata": {},
   "source": [
    "**Поставим задачу линейной регрессии в виде: A*c=f, где f аппроксимирует наш таргет,\n",
    "а результатом станет нахождение вектора коэффициентов c (для двух наборов это будут разные \n",
    "коэффициенты: c0 и c1)**"
   ]
  },
  {
   "cell_type": "code",
   "execution_count": 53,
   "metadata": {},
   "outputs": [],
   "source": [
    "A11,A12,A13,A14,A15,A16,A17 = len(y),sum(X[:,0]),        sum(X[:,1]),        sum(X[:,2]),        sum(X[:,3]),        sum(X[:,4]),        sum(X[:,5])\n",
    "A21,A22,A23,A24,A25,A26,A27 = A12,   sum(X[:,0]*X[:,0]), sum(X[:,1]*X[:,0]), sum(X[:,2]*X[:,0]), sum(X[:,3]*X[:,0]), sum(X[:,4]*X[:,0]), sum(X[:,5]*X[:,0])\n",
    "A31,A32,A33,A34,A35,A36,A37 = A13,   A23,                sum(X[:,1]*X[:,1]), sum(X[:,2]*X[:,1]), sum(X[:,3]*X[:,1]), sum(X[:,4]*X[:,1]), sum(X[:,5]*X[:,1])\n",
    "A41,A42,A43,A44,A45,A46,A47 = A14,   A24,  A34,                              sum(X[:,2]*X[:,2]), sum(X[:,3]*X[:,2]), sum(X[:,4]*X[:,2]), sum(X[:,5]*X[:,2])\n",
    "A51,A52,A53,A54,A55,A56,A57 = A15,   A25,  A35,  A45,                                            sum(X[:,3]*X[:,3]), sum(X[:,4]*X[:,3]), sum(X[:,5]*X[:,3])\n",
    "A61,A62,A63,A64,A65,A66,A67 = A16,   A26,  A36,  A46,  A56,                                                          sum(X[:,4]*X[:,4]), sum(X[:,5]*X[:,4])\n",
    "A71,A72,A73,A74,A75,A76,A77 = A17,   A27,  A37,  A47,  A57,  A67,                                                                        sum(X[:,5]*X[:,5])\n",
    "\n",
    "F1,F2,F3,F4,F5,F6,F7  = sum(y),sum(y*X[:,0]),sum(y*X[:,1]),sum(y*X[:,2]),sum(y*X[:,3]),sum(y*X[:,4]),sum(y*X[:,5]) "
   ]
  },
  {
   "cell_type": "code",
   "execution_count": 54,
   "metadata": {},
   "outputs": [],
   "source": [
    "A = np.array([[A11,A12,A13,A14,A15,A16,A17],\n",
    "              [A21,A22,A23,A24,A25,A26,A27],\n",
    "              [A31,A32,A33,A34,A35,A36,A37],\n",
    "              [A41,A42,A43,A44,A45,A46,A47],\n",
    "              [A51,A52,A53,A54,A55,A56,A57],\n",
    "              [A61,A62,A63,A64,A65,A66,A67],\n",
    "              [A71,A72,A73,A74,A75,A76,A77]])\n",
    "F = np.array([F1,F2,F3,F4,F5,F6,F7])\n",
    "               "
   ]
  },
  {
   "cell_type": "code",
   "execution_count": 55,
   "metadata": {},
   "outputs": [
    {
     "data": {
      "text/plain": [
       "array([[7000.        , 1385.2       , 2782.58666667, 1646.33333333,\n",
       "        2612.        ,  902.        ,  788.        ],\n",
       "       [1385.2       ,  491.        ,  591.24533333,  386.36666667,\n",
       "         522.7       ,  176.8       ,  155.2       ],\n",
       "       [2782.58666667,  591.24533333, 1239.10862222,  853.82666667,\n",
       "        1037.09333333,  362.36      ,  316.36      ],\n",
       "       [1646.33333333,  386.36666667,  853.82666667,  869.66666667,\n",
       "         628.        ,  216.        ,  191.33333333],\n",
       "       [2612.        ,  522.7       , 1037.09333333,  628.        ,\n",
       "        2612.        ,  351.        ,  284.        ],\n",
       "       [ 902.        ,  176.8       ,  362.36      ,  216.        ,\n",
       "         351.        ,  902.        ,  114.        ],\n",
       "       [ 788.        ,  155.2       ,  316.36      ,  191.33333333,\n",
       "         284.        ,  114.        ,  788.        ]])"
      ]
     },
     "execution_count": 55,
     "metadata": {},
     "output_type": "execute_result"
    }
   ],
   "source": [
    "A"
   ]
  },
  {
   "cell_type": "code",
   "execution_count": 56,
   "metadata": {},
   "outputs": [
    {
     "data": {
      "text/plain": [
       "array([449223.        ,  92096.6       , 187847.22666667, 124330.33333333,\n",
       "       176395.        ,  58627.        ,  51800.        ])"
      ]
     },
     "execution_count": 56,
     "metadata": {},
     "output_type": "execute_result"
    }
   ],
   "source": [
    "F"
   ]
  },
  {
   "cell_type": "code",
   "execution_count": 57,
   "metadata": {},
   "outputs": [],
   "source": [
    "AI = inv(A)"
   ]
  },
  {
   "cell_type": "code",
   "execution_count": 58,
   "metadata": {},
   "outputs": [
    {
     "name": "stdout",
     "output_type": "stream",
     "text": [
      "[43.37876848  1.70814663 30.90035    25.55853469  5.1638888   0.5540629\n",
      "  1.46812707]\n"
     ]
    }
   ],
   "source": [
    "c = inv(A).dot(F)\n",
    "print(c)"
   ]
  },
  {
   "cell_type": "code",
   "execution_count": 59,
   "metadata": {
    "scrolled": true
   },
   "outputs": [],
   "source": [
    "yp = c[0] + c[1]*X[:,0] + c[2]*X[:,1] + c[3]*X[:,2] + c[4]*X[:,3] + c[5]*X[:,4] + c[6]*X[:,5]"
   ]
  },
  {
   "cell_type": "code",
   "execution_count": 60,
   "metadata": {},
   "outputs": [
    {
     "name": "stdout",
     "output_type": "stream",
     "text": [
      "0.6386792270203765\n"
     ]
    }
   ],
   "source": [
    "r2 = r2_quality(yp, y)\n",
    "print(r2)\n",
    "# 0.5510971479147218 - вариант 1\n",
    "# 0.6385190377458905 - вариант 3"
   ]
  },
  {
   "cell_type": "code",
   "execution_count": 62,
   "metadata": {},
   "outputs": [
    {
     "name": "stdout",
     "output_type": "stream",
     "text": [
      "45.46885579350854 104.3784112841845\n",
      "45.46885579350854 100.0\n"
     ]
    }
   ],
   "source": [
    "print(yp.min(),yp.max())\n",
    "yp[yp>100] = 100\n",
    "print(yp.min(),yp.max())"
   ]
  },
  {
   "cell_type": "markdown",
   "metadata": {},
   "source": [
    "**тепреь применим найденные коэффициенты к тестовому набору**"
   ]
  },
  {
   "cell_type": "code",
   "execution_count": 64,
   "metadata": {},
   "outputs": [
    {
     "data": {
      "text/html": [
       "<div>\n",
       "<style scoped>\n",
       "    .dataframe tbody tr th:only-of-type {\n",
       "        vertical-align: middle;\n",
       "    }\n",
       "\n",
       "    .dataframe tbody tr th {\n",
       "        vertical-align: top;\n",
       "    }\n",
       "\n",
       "    .dataframe thead th {\n",
       "        text-align: right;\n",
       "    }\n",
       "</style>\n",
       "<table border=\"1\" class=\"dataframe\">\n",
       "  <thead>\n",
       "    <tr style=\"text-align: right;\">\n",
       "      <th></th>\n",
       "      <th>Id</th>\n",
       "      <th>age</th>\n",
       "      <th>years_of_experience</th>\n",
       "      <th>lesson_price</th>\n",
       "      <th>qualification</th>\n",
       "      <th>physics</th>\n",
       "      <th>chemistry</th>\n",
       "      <th>biology</th>\n",
       "      <th>english</th>\n",
       "      <th>geography</th>\n",
       "      <th>history</th>\n",
       "    </tr>\n",
       "  </thead>\n",
       "  <tbody>\n",
       "    <tr>\n",
       "      <th>0</th>\n",
       "      <td>10000</td>\n",
       "      <td>46.0</td>\n",
       "      <td>3.0</td>\n",
       "      <td>1050.0</td>\n",
       "      <td>1.0</td>\n",
       "      <td>0.0</td>\n",
       "      <td>1.0</td>\n",
       "      <td>0.0</td>\n",
       "      <td>0.0</td>\n",
       "      <td>0.0</td>\n",
       "      <td>0.0</td>\n",
       "    </tr>\n",
       "    <tr>\n",
       "      <th>1</th>\n",
       "      <td>10001</td>\n",
       "      <td>43.0</td>\n",
       "      <td>3.0</td>\n",
       "      <td>1850.0</td>\n",
       "      <td>2.0</td>\n",
       "      <td>0.0</td>\n",
       "      <td>0.0</td>\n",
       "      <td>0.0</td>\n",
       "      <td>0.0</td>\n",
       "      <td>0.0</td>\n",
       "      <td>0.0</td>\n",
       "    </tr>\n",
       "    <tr>\n",
       "      <th>2</th>\n",
       "      <td>10002</td>\n",
       "      <td>52.0</td>\n",
       "      <td>1.0</td>\n",
       "      <td>1550.0</td>\n",
       "      <td>1.0</td>\n",
       "      <td>1.0</td>\n",
       "      <td>0.0</td>\n",
       "      <td>0.0</td>\n",
       "      <td>0.0</td>\n",
       "      <td>0.0</td>\n",
       "      <td>0.0</td>\n",
       "    </tr>\n",
       "    <tr>\n",
       "      <th>3</th>\n",
       "      <td>10003</td>\n",
       "      <td>57.0</td>\n",
       "      <td>6.0</td>\n",
       "      <td>2900.0</td>\n",
       "      <td>3.0</td>\n",
       "      <td>1.0</td>\n",
       "      <td>0.0</td>\n",
       "      <td>1.0</td>\n",
       "      <td>0.0</td>\n",
       "      <td>0.0</td>\n",
       "      <td>0.0</td>\n",
       "    </tr>\n",
       "    <tr>\n",
       "      <th>4</th>\n",
       "      <td>10004</td>\n",
       "      <td>44.0</td>\n",
       "      <td>4.0</td>\n",
       "      <td>3150.0</td>\n",
       "      <td>3.0</td>\n",
       "      <td>1.0</td>\n",
       "      <td>0.0</td>\n",
       "      <td>0.0</td>\n",
       "      <td>0.0</td>\n",
       "      <td>0.0</td>\n",
       "      <td>0.0</td>\n",
       "    </tr>\n",
       "  </tbody>\n",
       "</table>\n",
       "</div>"
      ],
      "text/plain": [
       "      Id   age  years_of_experience  lesson_price  qualification  physics  \\\n",
       "0  10000  46.0                  3.0        1050.0            1.0      0.0   \n",
       "1  10001  43.0                  3.0        1850.0            2.0      0.0   \n",
       "2  10002  52.0                  1.0        1550.0            1.0      1.0   \n",
       "3  10003  57.0                  6.0        2900.0            3.0      1.0   \n",
       "4  10004  44.0                  4.0        3150.0            3.0      1.0   \n",
       "\n",
       "   chemistry  biology  english  geography  history  \n",
       "0        1.0      0.0      0.0        0.0      0.0  \n",
       "1        0.0      0.0      0.0        0.0      0.0  \n",
       "2        0.0      0.0      0.0        0.0      0.0  \n",
       "3        0.0      1.0      0.0        0.0      0.0  \n",
       "4        0.0      0.0      0.0        0.0      0.0  "
      ]
     },
     "execution_count": 64,
     "metadata": {},
     "output_type": "execute_result"
    }
   ],
   "source": [
    "df_tst = pd.read_csv(TEST_DATASET_PATH)\n",
    "df_tst.head()"
   ]
  },
  {
   "cell_type": "code",
   "execution_count": 65,
   "metadata": {},
   "outputs": [
    {
     "name": "stdout",
     "output_type": "stream",
     "text": [
      "(10000, 11)\n"
     ]
    }
   ],
   "source": [
    "print(df_tst.shape)"
   ]
  },
  {
   "cell_type": "code",
   "execution_count": 66,
   "metadata": {},
   "outputs": [],
   "source": [
    "# в признаках оставим только релевантные\n",
    "df_X = pd.DataFrame(df_tst, columns=['years_of_experience','lesson_price','qualification','physics','chemistry','biology'])\n",
    "# и нормализуем эти признаки\n",
    "X = np.array((df_X-df_X.min(axis=0))/(df_X.max(axis=0)-df_X.min(axis=0))) "
   ]
  },
  {
   "cell_type": "code",
   "execution_count": 71,
   "metadata": {},
   "outputs": [],
   "source": [
    "yp = pd.DataFrame(df_tst, columns=['Id','physics'])\n",
    "yp['physics'] = 0\n",
    "yp.columns = ['Id','mean_exam_points']\n",
    "yp['mean_exam_points'] = c[0] + c[1]*X[:,0] + c[2]*X[:,1] + c[3]*X[:,2] + c[4]*X[:,3] + c[5]*X[:,4] + c[6]*X[:,5]"
   ]
  },
  {
   "cell_type": "code",
   "execution_count": 72,
   "metadata": {},
   "outputs": [
    {
     "data": {
      "text/html": [
       "<div>\n",
       "<style scoped>\n",
       "    .dataframe tbody tr th:only-of-type {\n",
       "        vertical-align: middle;\n",
       "    }\n",
       "\n",
       "    .dataframe tbody tr th {\n",
       "        vertical-align: top;\n",
       "    }\n",
       "\n",
       "    .dataframe thead th {\n",
       "        text-align: right;\n",
       "    }\n",
       "</style>\n",
       "<table border=\"1\" class=\"dataframe\">\n",
       "  <thead>\n",
       "    <tr style=\"text-align: right;\">\n",
       "      <th></th>\n",
       "      <th>Id</th>\n",
       "      <th>mean_exam_points</th>\n",
       "    </tr>\n",
       "  </thead>\n",
       "  <tbody>\n",
       "    <tr>\n",
       "      <th>count</th>\n",
       "      <td>10000.00000</td>\n",
       "      <td>10000.000000</td>\n",
       "    </tr>\n",
       "    <tr>\n",
       "      <th>mean</th>\n",
       "      <td>14999.50000</td>\n",
       "      <td>63.990244</td>\n",
       "    </tr>\n",
       "    <tr>\n",
       "      <th>std</th>\n",
       "      <td>2886.89568</td>\n",
       "      <td>10.812165</td>\n",
       "    </tr>\n",
       "    <tr>\n",
       "      <th>min</th>\n",
       "      <td>10000.00000</td>\n",
       "      <td>44.403656</td>\n",
       "    </tr>\n",
       "    <tr>\n",
       "      <th>25%</th>\n",
       "      <td>12499.75000</td>\n",
       "      <td>54.325097</td>\n",
       "    </tr>\n",
       "    <tr>\n",
       "      <th>50%</th>\n",
       "      <td>14999.50000</td>\n",
       "      <td>61.435828</td>\n",
       "    </tr>\n",
       "    <tr>\n",
       "      <th>75%</th>\n",
       "      <td>17499.25000</td>\n",
       "      <td>70.988435</td>\n",
       "    </tr>\n",
       "    <tr>\n",
       "      <th>max</th>\n",
       "      <td>19999.00000</td>\n",
       "      <td>99.836067</td>\n",
       "    </tr>\n",
       "  </tbody>\n",
       "</table>\n",
       "</div>"
      ],
      "text/plain": [
       "                Id  mean_exam_points\n",
       "count  10000.00000      10000.000000\n",
       "mean   14999.50000         63.990244\n",
       "std     2886.89568         10.812165\n",
       "min    10000.00000         44.403656\n",
       "25%    12499.75000         54.325097\n",
       "50%    14999.50000         61.435828\n",
       "75%    17499.25000         70.988435\n",
       "max    19999.00000         99.836067"
      ]
     },
     "execution_count": 72,
     "metadata": {},
     "output_type": "execute_result"
    }
   ],
   "source": [
    "yp.describe()"
   ]
  },
  {
   "cell_type": "code",
   "execution_count": 73,
   "metadata": {},
   "outputs": [],
   "source": [
    "yp['mean_exam_points'] = np.rint(yp['mean_exam_points'])"
   ]
  },
  {
   "cell_type": "code",
   "execution_count": 74,
   "metadata": {},
   "outputs": [
    {
     "data": {
      "text/html": [
       "<div>\n",
       "<style scoped>\n",
       "    .dataframe tbody tr th:only-of-type {\n",
       "        vertical-align: middle;\n",
       "    }\n",
       "\n",
       "    .dataframe tbody tr th {\n",
       "        vertical-align: top;\n",
       "    }\n",
       "\n",
       "    .dataframe thead th {\n",
       "        text-align: right;\n",
       "    }\n",
       "</style>\n",
       "<table border=\"1\" class=\"dataframe\">\n",
       "  <thead>\n",
       "    <tr style=\"text-align: right;\">\n",
       "      <th></th>\n",
       "      <th>Id</th>\n",
       "      <th>mean_exam_points</th>\n",
       "    </tr>\n",
       "  </thead>\n",
       "  <tbody>\n",
       "    <tr>\n",
       "      <th>0</th>\n",
       "      <td>10000</td>\n",
       "      <td>51.0</td>\n",
       "    </tr>\n",
       "    <tr>\n",
       "      <th>1</th>\n",
       "      <td>10001</td>\n",
       "      <td>66.0</td>\n",
       "    </tr>\n",
       "    <tr>\n",
       "      <th>2</th>\n",
       "      <td>10002</td>\n",
       "      <td>60.0</td>\n",
       "    </tr>\n",
       "    <tr>\n",
       "      <th>3</th>\n",
       "      <td>10003</td>\n",
       "      <td>90.0</td>\n",
       "    </tr>\n",
       "    <tr>\n",
       "      <th>4</th>\n",
       "      <td>10004</td>\n",
       "      <td>90.0</td>\n",
       "    </tr>\n",
       "  </tbody>\n",
       "</table>\n",
       "</div>"
      ],
      "text/plain": [
       "      Id  mean_exam_points\n",
       "0  10000              51.0\n",
       "1  10001              66.0\n",
       "2  10002              60.0\n",
       "3  10003              90.0\n",
       "4  10004              90.0"
      ]
     },
     "execution_count": 74,
     "metadata": {},
     "output_type": "execute_result"
    }
   ],
   "source": [
    "yp.head()"
   ]
  },
  {
   "cell_type": "code",
   "execution_count": 75,
   "metadata": {},
   "outputs": [],
   "source": [
    "yp.to_csv(PREP_DATASET_PATH, index=False)"
   ]
  }
 ],
 "metadata": {
  "kernelspec": {
   "display_name": "Python 3",
   "language": "python",
   "name": "python3"
  },
  "language_info": {
   "codemirror_mode": {
    "name": "ipython",
    "version": 3
   },
   "file_extension": ".py",
   "mimetype": "text/x-python",
   "name": "python",
   "nbconvert_exporter": "python",
   "pygments_lexer": "ipython3",
   "version": "3.7.3"
  }
 },
 "nbformat": 4,
 "nbformat_minor": 2
}
