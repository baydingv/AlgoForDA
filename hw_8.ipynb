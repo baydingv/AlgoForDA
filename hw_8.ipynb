{
 "cells": [
  {
   "cell_type": "markdown",
   "metadata": {
    "colab_type": "text",
    "id": "dWEQalcAdfJ1"
   },
   "source": [
    "hw_8. Обучить любую модель классификации на датасете IRIS до применения PCA и после него. Сравнить качество классификации по отложенной выборке."
   ]
  },
  {
   "cell_type": "code",
   "execution_count": 1,
   "metadata": {
    "colab": {},
    "colab_type": "code",
    "id": "kSmUQy4ZdfJ2"
   },
   "outputs": [],
   "source": [
    "import numpy as np\n",
    "from sklearn import datasets\n",
    "import matplotlib.pyplot as plt"
   ]
  },
  {
   "cell_type": "code",
   "execution_count": 2,
   "metadata": {},
   "outputs": [],
   "source": [
    "def L2(en1,en2):\n",
    "    K,Lee = len(en1),0.0\n",
    "    for i in range(K):\n",
    "        Lee += (en1[i] - en2[i])**2\n",
    "    Lee = np.sqrt(Lee)\n",
    "    return Lee"
   ]
  },
  {
   "cell_type": "code",
   "execution_count": 3,
   "metadata": {},
   "outputs": [],
   "source": [
    "def Knn_accuracy(X,y):\n",
    "    dim_N,dim_M = X.shape\n",
    "    coin = 0\n",
    "    for i in range(dim_N):\n",
    "        dist,mark = [],[0,0,0]\n",
    "        for j in range(dim_N):\n",
    "            dist.append(L2(X[i],X[j]))\n",
    "        ind = np.argsort(dist)\n",
    "        for j in range(1,6):\n",
    "            ij = y[ind[j]]\n",
    "            mark[ij] += 1\n",
    "        yp = np.argmax(mark)\n",
    "        if yp == y[i]: coin += 1\n",
    "    res = coin / (1.0*dim_N)\n",
    "    print(coin,dim_N)\n",
    "    return res"
   ]
  },
  {
   "cell_type": "code",
   "execution_count": 4,
   "metadata": {
    "colab": {},
    "colab_type": "code",
    "id": "m3d93Gx2dfJ6",
    "outputId": "eaee1c83-f56e-474c-a5f2-bdd5d4659ab4"
   },
   "outputs": [
    {
     "data": {
      "text/plain": [
       "(150, 4)"
      ]
     },
     "execution_count": 4,
     "metadata": {},
     "output_type": "execute_result"
    }
   ],
   "source": [
    "# Загрузим игрушечный датасет из sklearn\n",
    "iris = datasets.load_iris()\n",
    "X = iris.data\n",
    "X.shape"
   ]
  },
  {
   "cell_type": "code",
   "execution_count": 5,
   "metadata": {
    "colab": {},
    "colab_type": "code",
    "id": "eE6X-RyIdfJ-"
   },
   "outputs": [],
   "source": [
    "# Для начала отмасштабируем выборку\n",
    "X_ = X.astype(float)\n",
    "\n",
    "rows, cols = X_.shape\n",
    "\n",
    "# центрирование - вычитание из каждого значения среднего по строке\n",
    "means = X_.mean(0)\n",
    "for i in range(rows):\n",
    "    for j in range(cols):\n",
    "        X_[i, j] -= means[j]\n",
    "\n",
    "# деление каждого значения на стандартное отклонение\n",
    "std = np.std(X_, axis=0)\n",
    "for i in range(cols):\n",
    "    for j in range(rows):\n",
    "        X_[j][i] /= std[i]"
   ]
  },
  {
   "cell_type": "code",
   "execution_count": 6,
   "metadata": {
    "colab": {},
    "colab_type": "code",
    "id": "ItFOmLW9dfKB",
    "outputId": "0b507805-c106-4539-d15a-4dc8327b764f"
   },
   "outputs": [
    {
     "name": "stdout",
     "output_type": "stream",
     "text": [
      "Собственные значения в порядке убывания:\n",
      "437.7746724797993\n",
      "137.10457072021043\n",
      "22.013531335697234\n",
      "3.1072254642928705\n"
     ]
    }
   ],
   "source": [
    "# Найдем собственные векторы и собственные значения\n",
    " \n",
    "covariance_matrix = X_.T.dot(X_)\n",
    "\n",
    "eig_values, eig_vectors = np.linalg.eig(covariance_matrix)\n",
    "\n",
    "# сформируем список кортежей (собственное значение, собственный вектор)\n",
    "eig_pairs = [(np.abs(eig_values[i]), eig_vectors[:, i]) for i in range(len(eig_values))]\n",
    "\n",
    "# и отсортируем список по убыванию собственных значений\n",
    "eig_pairs.sort(key=lambda x: x[0], reverse=True)\n",
    "\n",
    "print('Собственные значения в порядке убывания:')\n",
    "for i in eig_pairs:\n",
    "    print(i[0])"
   ]
  },
  {
   "cell_type": "code",
   "execution_count": 8,
   "metadata": {},
   "outputs": [
    {
     "name": "stdout",
     "output_type": "stream",
     "text": [
      "145 150\n",
      "0.9666666666666667\n"
     ]
    }
   ],
   "source": [
    "# Устроим цикл с почередным выводом  из дела последних компонент, проверяя точность классификации метода, \n",
    "# обученного на упрощенных наборах. Сначала - полный набор\n",
    "y = iris.target\n",
    "print(Knn_accuracy(X,y))"
   ]
  },
  {
   "cell_type": "code",
   "execution_count": 9,
   "metadata": {
    "colab": {},
    "colab_type": "code",
    "id": "z4xcGvf7dfKI",
    "outputId": "e406100f-3bd4-40fb-ce09-15db12e77a12"
   },
   "outputs": [
    {
     "name": "stdout",
     "output_type": "stream",
     "text": [
      "Учитываем первые 4 компоненты:\n",
      "142 150\n",
      "0.9466666666666667\n",
      "Учитываем первые 3 компоненты:\n",
      "143 150\n",
      "0.9533333333333334\n",
      "Учитываем первые 2 компоненты:\n",
      "137 150\n",
      "0.9133333333333333\n",
      "Учитываем первые 1 компоненты:\n",
      "139 150\n",
      "0.9266666666666666\n"
     ]
    }
   ],
   "source": [
    "# Сформируем вектор весов из собственных векторов, соответствующих первым N-1 главным компонентам\n",
    "for i in [4,3,2,1]:\n",
    "    print(f'Учитываем первые {i} компоненты:')\n",
    "    W = eig_pairs[0][1].reshape(4,1)\n",
    "    for j in range(1,i):\n",
    "        W = np.hstack((W, eig_pairs[j][1].reshape(4,1)))\n",
    "    Z = X_.dot(W)\n",
    "    print(Knn_accuracy(Z,y))"
   ]
  },
  {
   "cell_type": "code",
   "execution_count": null,
   "metadata": {},
   "outputs": [],
   "source": [
    "# Постепенный отказ от малых компонент слабо уменьшант точность классификации, \n",
    "# да еще и немонотонно. Настолько главная компонента главенствует надо всеми"
   ]
  }
 ],
 "metadata": {
  "colab": {
   "collapsed_sections": [],
   "name": "Lesson_8.ipynb",
   "provenance": []
  },
  "kernelspec": {
   "display_name": "Python 3",
   "language": "python",
   "name": "python3"
  },
  "language_info": {
   "codemirror_mode": {
    "name": "ipython",
    "version": 3
   },
   "file_extension": ".py",
   "mimetype": "text/x-python",
   "name": "python",
   "nbconvert_exporter": "python",
   "pygments_lexer": "ipython3",
   "version": "3.7.3"
  }
 },
 "nbformat": 4,
 "nbformat_minor": 1
}
